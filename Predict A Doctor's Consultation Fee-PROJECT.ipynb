{
 "cells": [
  {
   "cell_type": "code",
   "execution_count": 1,
   "metadata": {},
   "outputs": [],
   "source": [
    "import pandas as pd\n",
    "import numpy as np\n",
    "import seaborn as sns\n",
    "import matplotlib.pyplot as plt\n",
    "import re\n",
    "import math"
   ]
  },
  {
   "cell_type": "code",
   "execution_count": 125,
   "metadata": {},
   "outputs": [],
   "source": [
    "df=pd.read_excel(r'C:\\Users\\ans025\\Desktop\\Final_train.xlsx')\n",
    "df1=pd.read_excel(r'C:\\Users\\ans025\\Desktop\\Final_test.xlsx')"
   ]
  },
  {
   "cell_type": "code",
   "execution_count": 126,
   "metadata": {},
   "outputs": [
    {
     "data": {
      "text/html": [
       "<div>\n",
       "<style scoped>\n",
       "    .dataframe tbody tr th:only-of-type {\n",
       "        vertical-align: middle;\n",
       "    }\n",
       "\n",
       "    .dataframe tbody tr th {\n",
       "        vertical-align: top;\n",
       "    }\n",
       "\n",
       "    .dataframe thead th {\n",
       "        text-align: right;\n",
       "    }\n",
       "</style>\n",
       "<table border=\"1\" class=\"dataframe\">\n",
       "  <thead>\n",
       "    <tr style=\"text-align: right;\">\n",
       "      <th></th>\n",
       "      <th>Qualification</th>\n",
       "      <th>Experience</th>\n",
       "      <th>Rating</th>\n",
       "      <th>Place</th>\n",
       "      <th>Profile</th>\n",
       "      <th>Miscellaneous_Info</th>\n",
       "      <th>Fees</th>\n",
       "    </tr>\n",
       "  </thead>\n",
       "  <tbody>\n",
       "    <tr>\n",
       "      <th>0</th>\n",
       "      <td>BHMS, MD - Homeopathy</td>\n",
       "      <td>24 years experience</td>\n",
       "      <td>100%</td>\n",
       "      <td>Kakkanad, Ernakulam</td>\n",
       "      <td>Homeopath</td>\n",
       "      <td>100% 16 Feedback Kakkanad, Ernakulam</td>\n",
       "      <td>100</td>\n",
       "    </tr>\n",
       "    <tr>\n",
       "      <th>1</th>\n",
       "      <td>BAMS, MD - Ayurveda Medicine</td>\n",
       "      <td>12 years experience</td>\n",
       "      <td>98%</td>\n",
       "      <td>Whitefield, Bangalore</td>\n",
       "      <td>Ayurveda</td>\n",
       "      <td>98% 76 Feedback Whitefield, Bangalore</td>\n",
       "      <td>350</td>\n",
       "    </tr>\n",
       "    <tr>\n",
       "      <th>2</th>\n",
       "      <td>MBBS, MS - Otorhinolaryngology</td>\n",
       "      <td>9 years experience</td>\n",
       "      <td>NaN</td>\n",
       "      <td>Mathikere - BEL, Bangalore</td>\n",
       "      <td>ENT Specialist</td>\n",
       "      <td>NaN</td>\n",
       "      <td>300</td>\n",
       "    </tr>\n",
       "    <tr>\n",
       "      <th>3</th>\n",
       "      <td>BSc - Zoology, BAMS</td>\n",
       "      <td>12 years experience</td>\n",
       "      <td>NaN</td>\n",
       "      <td>Bannerghatta Road, Bangalore</td>\n",
       "      <td>Ayurveda</td>\n",
       "      <td>Bannerghatta Road, Bangalore ₹250 Available on...</td>\n",
       "      <td>250</td>\n",
       "    </tr>\n",
       "    <tr>\n",
       "      <th>4</th>\n",
       "      <td>BAMS</td>\n",
       "      <td>20 years experience</td>\n",
       "      <td>100%</td>\n",
       "      <td>Keelkattalai, Chennai</td>\n",
       "      <td>Ayurveda</td>\n",
       "      <td>100% 4 Feedback Keelkattalai, Chennai</td>\n",
       "      <td>250</td>\n",
       "    </tr>\n",
       "  </tbody>\n",
       "</table>\n",
       "</div>"
      ],
      "text/plain": [
       "                    Qualification           Experience Rating  \\\n",
       "0           BHMS, MD - Homeopathy  24 years experience   100%   \n",
       "1    BAMS, MD - Ayurveda Medicine  12 years experience    98%   \n",
       "2  MBBS, MS - Otorhinolaryngology   9 years experience    NaN   \n",
       "3             BSc - Zoology, BAMS  12 years experience    NaN   \n",
       "4                            BAMS  20 years experience   100%   \n",
       "\n",
       "                          Place         Profile  \\\n",
       "0           Kakkanad, Ernakulam       Homeopath   \n",
       "1         Whitefield, Bangalore        Ayurveda   \n",
       "2    Mathikere - BEL, Bangalore  ENT Specialist   \n",
       "3  Bannerghatta Road, Bangalore        Ayurveda   \n",
       "4         Keelkattalai, Chennai        Ayurveda   \n",
       "\n",
       "                                  Miscellaneous_Info  Fees  \n",
       "0               100% 16 Feedback Kakkanad, Ernakulam   100  \n",
       "1              98% 76 Feedback Whitefield, Bangalore   350  \n",
       "2                                                NaN   300  \n",
       "3  Bannerghatta Road, Bangalore ₹250 Available on...   250  \n",
       "4              100% 4 Feedback Keelkattalai, Chennai   250  "
      ]
     },
     "execution_count": 126,
     "metadata": {},
     "output_type": "execute_result"
    }
   ],
   "source": [
    "df.head()"
   ]
  },
  {
   "cell_type": "code",
   "execution_count": 127,
   "metadata": {},
   "outputs": [
    {
     "data": {
      "text/plain": [
       "(5961, 7)"
      ]
     },
     "execution_count": 127,
     "metadata": {},
     "output_type": "execute_result"
    }
   ],
   "source": [
    "df.shape"
   ]
  },
  {
   "cell_type": "code",
   "execution_count": 128,
   "metadata": {},
   "outputs": [],
   "source": [
    "full=pd.concat([df,df1],ignore_index=True)"
   ]
  },
  {
   "cell_type": "code",
   "execution_count": 129,
   "metadata": {},
   "outputs": [],
   "source": [
    "miss=[]\n",
    "for i, row in full.iterrows():\n",
    "    miss.append(re.sub('[,]', ' ', str(row[\"Miscellaneous_Info\"])))"
   ]
  },
  {
   "cell_type": "code",
   "execution_count": 130,
   "metadata": {},
   "outputs": [],
   "source": [
    "full[\"Miss\"]=miss"
   ]
  },
  {
   "cell_type": "code",
   "execution_count": 131,
   "metadata": {},
   "outputs": [],
   "source": [
    "from nltk.corpus import stopwords\n",
    "import string\n",
    "import re\n",
    "import nltk\n",
    "from nltk.stem.porter import PorterStemmer"
   ]
  },
  {
   "cell_type": "code",
   "execution_count": 132,
   "metadata": {},
   "outputs": [],
   "source": [
    "missi=[]\n",
    "for i, row in full.iterrows():\n",
    "    missi.append(re.sub('[,/]', '', str(row[\"Miscellaneous_Info\"])))"
   ]
  },
  {
   "cell_type": "code",
   "execution_count": 133,
   "metadata": {},
   "outputs": [],
   "source": [
    "full[\"missi\"]=missi"
   ]
  },
  {
   "cell_type": "code",
   "execution_count": 134,
   "metadata": {},
   "outputs": [],
   "source": [
    "missi1=[]\n",
    "for i, row in full.iterrows():\n",
    "    missi1.append(re.sub(' +', ' ', str(row[\"missi\"])))"
   ]
  },
  {
   "cell_type": "code",
   "execution_count": 135,
   "metadata": {},
   "outputs": [],
   "source": [
    "full[\"Missi1\"]=missi1"
   ]
  },
  {
   "cell_type": "code",
   "execution_count": 136,
   "metadata": {},
   "outputs": [],
   "source": [
    "full[\"Missi1\"].replace(\"nan\",\"####\",inplace=True)"
   ]
  },
  {
   "cell_type": "code",
   "execution_count": 137,
   "metadata": {},
   "outputs": [],
   "source": [
    "from sklearn.feature_extraction.text import CountVectorizer\n",
    "cv1 = CountVectorizer(max_features=200)\n",
    "y = cv1.fit_transform(full[\"Missi1\"]).toarray()"
   ]
  },
  {
   "cell_type": "code",
   "execution_count": 138,
   "metadata": {},
   "outputs": [
    {
     "data": {
      "text/plain": [
       "200"
      ]
     },
     "execution_count": 138,
     "metadata": {},
     "output_type": "execute_result"
    }
   ],
   "source": [
    "len(cv1.vocabulary_)"
   ]
  },
  {
   "cell_type": "code",
   "execution_count": 139,
   "metadata": {},
   "outputs": [
    {
     "data": {
      "text/plain": [
       "(7948, 200)"
      ]
     },
     "execution_count": 139,
     "metadata": {},
     "output_type": "execute_result"
    }
   ],
   "source": [
    "y.shape"
   ]
  },
  {
   "cell_type": "code",
   "execution_count": 140,
   "metadata": {},
   "outputs": [],
   "source": [
    "thirty= list(y)\n",
    "thirty1=pd.DataFrame(thirty)"
   ]
  },
  {
   "cell_type": "code",
   "execution_count": 141,
   "metadata": {},
   "outputs": [],
   "source": [
    "qual=[]\n",
    "for i, row in full.iterrows():\n",
    "    qual.append(re.sub('[,]', ' ', str(row[\"Qualification\"])))"
   ]
  },
  {
   "cell_type": "code",
   "execution_count": 142,
   "metadata": {},
   "outputs": [],
   "source": [
    "full[\"Qual\"]=qual"
   ]
  },
  {
   "cell_type": "code",
   "execution_count": 143,
   "metadata": {},
   "outputs": [],
   "source": [
    "qual1=[]\n",
    "for i, row in full.iterrows():\n",
    "    qual1.append(re.sub('[-]', '', str(row[\"Qual\"])))"
   ]
  },
  {
   "cell_type": "code",
   "execution_count": 144,
   "metadata": {},
   "outputs": [],
   "source": [
    "full[\"Qual1\"]=qual1"
   ]
  },
  {
   "cell_type": "code",
   "execution_count": 146,
   "metadata": {},
   "outputs": [],
   "source": [
    "qual2=[]\n",
    "for i, row in full.iterrows():\n",
    "    qual2.append(re.sub(' +', ' ', str(row[\"Qual1\"])))"
   ]
  },
  {
   "cell_type": "code",
   "execution_count": 147,
   "metadata": {},
   "outputs": [],
   "source": [
    "full[\"Qual2\"]=qual2"
   ]
  },
  {
   "cell_type": "code",
   "execution_count": 148,
   "metadata": {},
   "outputs": [],
   "source": [
    "full[\"Qual2\"].replace(\"nan\",\"####\",inplace=True)"
   ]
  },
  {
   "cell_type": "code",
   "execution_count": 149,
   "metadata": {},
   "outputs": [],
   "source": [
    "from sklearn.feature_extraction.text import CountVectorizer\n",
    "cv = CountVectorizer(max_features=50)\n",
    "X = cv.fit_transform(full[\"Qual2\"]).toarray()"
   ]
  },
  {
   "cell_type": "code",
   "execution_count": 150,
   "metadata": {},
   "outputs": [],
   "source": [
    "twenty= list(X)\n",
    "twenty1=pd.DataFrame(twenty)"
   ]
  },
  {
   "cell_type": "code",
   "execution_count": 151,
   "metadata": {},
   "outputs": [],
   "source": [
    "Rating1=[]\n",
    "for i, row in df.iterrows():\n",
    "    Rating1.append(re.sub('[%]', '', str(row[\"Rating\"])))"
   ]
  },
  {
   "cell_type": "code",
   "execution_count": 152,
   "metadata": {},
   "outputs": [],
   "source": [
    "Rating1test=[]\n",
    "for i, row in df1.iterrows():\n",
    "    Rating1test.append(re.sub('[%]', '', str(row[\"Rating\"])))"
   ]
  },
  {
   "cell_type": "code",
   "execution_count": 153,
   "metadata": {},
   "outputs": [],
   "source": [
    "Rating_=[]\n",
    "for i in range(0,len(Rating1)):\n",
    "    Rating_.append(float(Rating1[i]))"
   ]
  },
  {
   "cell_type": "code",
   "execution_count": 154,
   "metadata": {},
   "outputs": [],
   "source": [
    "Rating_test=[]\n",
    "for i in range(0,len(Rating1test)):\n",
    "    Rating_test.append(float(Rating1test[i]))"
   ]
  },
  {
   "cell_type": "code",
   "execution_count": 155,
   "metadata": {},
   "outputs": [],
   "source": [
    "df[\"Rating_\"]=Rating_"
   ]
  },
  {
   "cell_type": "code",
   "execution_count": 156,
   "metadata": {},
   "outputs": [],
   "source": [
    "df1[\"Rating_\"]=Rating_test"
   ]
  },
  {
   "cell_type": "code",
   "execution_count": 157,
   "metadata": {},
   "outputs": [],
   "source": [
    "df[\"Rating_NA\"]=df[\"Rating\"].isna()"
   ]
  },
  {
   "cell_type": "code",
   "execution_count": 158,
   "metadata": {},
   "outputs": [],
   "source": [
    "df1[\"Rating_NA\"]=df1[\"Rating\"].isna()"
   ]
  },
  {
   "cell_type": "code",
   "execution_count": 159,
   "metadata": {},
   "outputs": [],
   "source": [
    "df['Rating_'].fillna(int(-999),inplace=True)"
   ]
  },
  {
   "cell_type": "code",
   "execution_count": 160,
   "metadata": {},
   "outputs": [],
   "source": [
    "df1['Rating_'].fillna(int(-999),inplace=True)"
   ]
  },
  {
   "cell_type": "code",
   "execution_count": 161,
   "metadata": {},
   "outputs": [],
   "source": [
    "Experience1=[]\n",
    "for i, row in df.iterrows():\n",
    "    Experience1.append(re.sub('[ years experience]', '', str(row[\"Experience\"])))"
   ]
  },
  {
   "cell_type": "code",
   "execution_count": 162,
   "metadata": {},
   "outputs": [],
   "source": [
    "Experience1test=[]\n",
    "for i, row in df1.iterrows():\n",
    "    Experience1test.append(re.sub('[ years experience]', '', str(row[\"Experience\"])))"
   ]
  },
  {
   "cell_type": "code",
   "execution_count": 163,
   "metadata": {},
   "outputs": [],
   "source": [
    "Experience_=[]\n",
    "for i in range(0,len(Experience1)):\n",
    "    Experience_.append(float(Experience1[i]))"
   ]
  },
  {
   "cell_type": "code",
   "execution_count": 164,
   "metadata": {},
   "outputs": [],
   "source": [
    "Experience_test=[]\n",
    "for i in range(0,len(Experience1test)):\n",
    "    Experience_test.append(float(Experience1test[i]))"
   ]
  },
  {
   "cell_type": "code",
   "execution_count": 165,
   "metadata": {},
   "outputs": [],
   "source": [
    "df[\"Experience_\"]=Experience_"
   ]
  },
  {
   "cell_type": "code",
   "execution_count": 166,
   "metadata": {},
   "outputs": [],
   "source": [
    "df1[\"Experience_\"]=Experience_test"
   ]
  },
  {
   "cell_type": "code",
   "execution_count": 167,
   "metadata": {},
   "outputs": [],
   "source": [
    "lol=df[\"Place\"].str.split(\", \",n=1,expand=True)"
   ]
  },
  {
   "cell_type": "code",
   "execution_count": 168,
   "metadata": {},
   "outputs": [],
   "source": [
    "df[\"Location\"]=lol[0]"
   ]
  },
  {
   "cell_type": "code",
   "execution_count": 169,
   "metadata": {},
   "outputs": [],
   "source": [
    "df[\"City\"]=lol[1]"
   ]
  },
  {
   "cell_type": "code",
   "execution_count": 170,
   "metadata": {},
   "outputs": [],
   "source": [
    "lol1=df1[\"Place\"].str.split(\", \",n=1,expand=True)"
   ]
  },
  {
   "cell_type": "code",
   "execution_count": 171,
   "metadata": {},
   "outputs": [],
   "source": [
    "df1[\"Location\"]=lol1[0]"
   ]
  },
  {
   "cell_type": "code",
   "execution_count": 172,
   "metadata": {},
   "outputs": [],
   "source": [
    "df1[\"City\"]=lol1[1]"
   ]
  },
  {
   "cell_type": "code",
   "execution_count": 173,
   "metadata": {},
   "outputs": [],
   "source": [
    "unknownlocation=['Alipur',\n",
    " 'Aroor',\n",
    " 'Ayanambakkam',\n",
    " 'Ayyappankavu',\n",
    " 'BHEL',\n",
    " 'Bachupally',\n",
    " 'Bhandup',\n",
    " 'Bhogal',\n",
    " 'Burari',\n",
    " 'Chandrayangutta',\n",
    " 'Cheranalloor',\n",
    " 'Chickpet',\n",
    " 'Choolai',\n",
    " 'Delhi Cantonment',\n",
    " 'Dindarpur',\n",
    " 'Dwarka Sector 12',\n",
    " 'Ernakulam',\n",
    " 'Gamdevi',\n",
    " 'Hasthinapuram',\n",
    " 'Hastsal',\n",
    " 'Hongasandra',\n",
    " 'Hosur Road',\n",
    " 'Iyyappanthangal',\n",
    " 'JP Nagar 9 Phase',\n",
    " 'Jafferkhanpet',\n",
    " 'Jayanagar 2 Block',\n",
    " 'KH Road',\n",
    " 'Kadubeesanahalli',\n",
    " 'Kalu Sarai',\n",
    " 'Kanjoor',\n",
    " 'Kapra',\n",
    " 'Kaudiar',\n",
    " 'Khar East',\n",
    " 'Koramangala 7 Block',\n",
    " 'Kudlu',\n",
    " 'Kurla',\n",
    " 'Lingarajapuram',\n",
    " 'Madambakkam',\n",
    " 'Madhavaram',\n",
    " 'Mahavir Enclave',\n",
    " 'Mahipalpur',\n",
    " 'Manchavilakom',\n",
    " 'Meerpet',\n",
    " 'Nacharam',\n",
    " 'Nandambakkam',\n",
    " 'Nedumangad',\n",
    " 'Nedumbassery',\n",
    " 'Nemom',\n",
    " 'Outer Ring Road',\n",
    " 'Padi',\n",
    " 'Palghar',\n",
    " 'Pattabiram',\n",
    " 'Periyanaickenpalayam',\n",
    " 'Poothotta',\n",
    " 'Pratap Nagar',\n",
    " 'Ramakrishna Puram',\n",
    " 'Rohini Sector 20',\n",
    " 'Rohini West',\n",
    " 'Safilguda',\n",
    " 'Sagar Road',\n",
    " 'Sarvapriya Vihar',\n",
    " 'Seeranaickenpalayam',\n",
    " 'Sewri',\n",
    " 'Shadipur',\n",
    " 'Sriniwaspuri',\n",
    " 'Tavarekere',\n",
    " 'Tv Thampanoor',\n",
    " 'Vikas Nagar',\n",
    " 'Vishwas Nagar',\n",
    " 'Warasiguda',\n",
    " 'Yemalur']"
   ]
  },
  {
   "cell_type": "code",
   "execution_count": 174,
   "metadata": {},
   "outputs": [
    {
     "data": {
      "text/plain": [
       "71"
      ]
     },
     "execution_count": 174,
     "metadata": {},
     "output_type": "execute_result"
    }
   ],
   "source": [
    "len(unknownlocation)"
   ]
  },
  {
   "cell_type": "code",
   "execution_count": 175,
   "metadata": {},
   "outputs": [],
   "source": [
    "twentytrain=twenty1.iloc[0:5961,:]"
   ]
  },
  {
   "cell_type": "code",
   "execution_count": 176,
   "metadata": {},
   "outputs": [],
   "source": [
    "twentytest=twenty1.iloc[5961:7949,:]"
   ]
  },
  {
   "cell_type": "code",
   "execution_count": 177,
   "metadata": {},
   "outputs": [],
   "source": [
    "thritytrain1=thirty1.iloc[0:5961,:]"
   ]
  },
  {
   "cell_type": "code",
   "execution_count": 178,
   "metadata": {},
   "outputs": [],
   "source": [
    "thritytest1=thirty1.iloc[5961:7949,:]"
   ]
  },
  {
   "cell_type": "code",
   "execution_count": 179,
   "metadata": {},
   "outputs": [],
   "source": [
    "thritytest1.reset_index(drop=True,inplace=True)"
   ]
  },
  {
   "cell_type": "code",
   "execution_count": 180,
   "metadata": {},
   "outputs": [],
   "source": [
    "twentytest.reset_index(drop=True,inplace=True)"
   ]
  },
  {
   "cell_type": "code",
   "execution_count": 181,
   "metadata": {},
   "outputs": [],
   "source": [
    "df=pd.concat([df,twentytrain,thritytrain1],axis=1,ignore_index=True)"
   ]
  },
  {
   "cell_type": "code",
   "execution_count": 182,
   "metadata": {},
   "outputs": [],
   "source": [
    "lol=pd.concat([df1,twentytest,thritytest1],axis=1,ignore_index=True)"
   ]
  },
  {
   "cell_type": "code",
   "execution_count": 183,
   "metadata": {},
   "outputs": [],
   "source": [
    "samekey=pd.DataFrame()"
   ]
  },
  {
   "cell_type": "code",
   "execution_count": 184,
   "metadata": {},
   "outputs": [],
   "source": [
    "for i in range(0,len(unknownlocation)):\n",
    "    lol1=lol[lol[9] == unknownlocation[i]]\n",
    "    samekey=pd.concat([samekey,lol1],axis=0)"
   ]
  },
  {
   "cell_type": "code",
   "execution_count": 185,
   "metadata": {},
   "outputs": [],
   "source": [
    "index=samekey.index.tolist()"
   ]
  },
  {
   "cell_type": "code",
   "execution_count": 186,
   "metadata": {},
   "outputs": [
    {
     "data": {
      "text/plain": [
       "83"
      ]
     },
     "execution_count": 186,
     "metadata": {},
     "output_type": "execute_result"
    }
   ],
   "source": [
    "len(index)"
   ]
  },
  {
   "cell_type": "code",
   "execution_count": 187,
   "metadata": {},
   "outputs": [],
   "source": [
    "for i in range(0,len(unknownlocation)):\n",
    "    lol=lol[lol[9] != unknownlocation[i]]"
   ]
  },
  {
   "cell_type": "code",
   "execution_count": 188,
   "metadata": {},
   "outputs": [],
   "source": [
    "df.drop([0,1,2,3,5],axis=1,inplace=True)"
   ]
  },
  {
   "cell_type": "code",
   "execution_count": 189,
   "metadata": {},
   "outputs": [],
   "source": [
    "lol.drop([0,1,2,3,5],axis=1,inplace=True)"
   ]
  },
  {
   "cell_type": "code",
   "execution_count": 190,
   "metadata": {},
   "outputs": [],
   "source": [
    "samekey.drop([0,1,2,3,5],axis=1,inplace=True)"
   ]
  },
  {
   "cell_type": "code",
   "execution_count": 193,
   "metadata": {},
   "outputs": [
    {
     "data": {
      "text/html": [
       "<div>\n",
       "<style scoped>\n",
       "    .dataframe tbody tr th:only-of-type {\n",
       "        vertical-align: middle;\n",
       "    }\n",
       "\n",
       "    .dataframe tbody tr th {\n",
       "        vertical-align: top;\n",
       "    }\n",
       "\n",
       "    .dataframe thead th {\n",
       "        text-align: right;\n",
       "    }\n",
       "</style>\n",
       "<table border=\"1\" class=\"dataframe\">\n",
       "  <thead>\n",
       "    <tr style=\"text-align: right;\">\n",
       "      <th></th>\n",
       "      <th>4</th>\n",
       "      <th>6</th>\n",
       "      <th>7</th>\n",
       "      <th>8</th>\n",
       "      <th>9</th>\n",
       "      <th>10</th>\n",
       "      <th>11</th>\n",
       "      <th>12</th>\n",
       "      <th>13</th>\n",
       "      <th>14</th>\n",
       "      <th>...</th>\n",
       "      <th>251</th>\n",
       "      <th>252</th>\n",
       "      <th>253</th>\n",
       "      <th>254</th>\n",
       "      <th>255</th>\n",
       "      <th>256</th>\n",
       "      <th>257</th>\n",
       "      <th>258</th>\n",
       "      <th>259</th>\n",
       "      <th>260</th>\n",
       "    </tr>\n",
       "  </thead>\n",
       "  <tbody>\n",
       "    <tr>\n",
       "      <th>0</th>\n",
       "      <td>General Medicine</td>\n",
       "      <td>-999.0</td>\n",
       "      <td>True</td>\n",
       "      <td>35.0</td>\n",
       "      <td>Ghatkopar East</td>\n",
       "      <td>Mumbai</td>\n",
       "      <td>0</td>\n",
       "      <td>0</td>\n",
       "      <td>0</td>\n",
       "      <td>0</td>\n",
       "      <td>...</td>\n",
       "      <td>0</td>\n",
       "      <td>0</td>\n",
       "      <td>0</td>\n",
       "      <td>0</td>\n",
       "      <td>0</td>\n",
       "      <td>0</td>\n",
       "      <td>0</td>\n",
       "      <td>0</td>\n",
       "      <td>0</td>\n",
       "      <td>0</td>\n",
       "    </tr>\n",
       "    <tr>\n",
       "      <th>1</th>\n",
       "      <td>ENT Specialist</td>\n",
       "      <td>-999.0</td>\n",
       "      <td>True</td>\n",
       "      <td>31.0</td>\n",
       "      <td>West Marredpally</td>\n",
       "      <td>Hyderabad</td>\n",
       "      <td>0</td>\n",
       "      <td>0</td>\n",
       "      <td>0</td>\n",
       "      <td>0</td>\n",
       "      <td>...</td>\n",
       "      <td>0</td>\n",
       "      <td>0</td>\n",
       "      <td>0</td>\n",
       "      <td>0</td>\n",
       "      <td>0</td>\n",
       "      <td>0</td>\n",
       "      <td>0</td>\n",
       "      <td>0</td>\n",
       "      <td>0</td>\n",
       "      <td>0</td>\n",
       "    </tr>\n",
       "    <tr>\n",
       "      <th>2</th>\n",
       "      <td>Dermatologists</td>\n",
       "      <td>70.0</td>\n",
       "      <td>False</td>\n",
       "      <td>40.0</td>\n",
       "      <td>KK Nagar</td>\n",
       "      <td>Chennai</td>\n",
       "      <td>0</td>\n",
       "      <td>0</td>\n",
       "      <td>0</td>\n",
       "      <td>0</td>\n",
       "      <td>...</td>\n",
       "      <td>0</td>\n",
       "      <td>0</td>\n",
       "      <td>0</td>\n",
       "      <td>0</td>\n",
       "      <td>0</td>\n",
       "      <td>0</td>\n",
       "      <td>0</td>\n",
       "      <td>0</td>\n",
       "      <td>0</td>\n",
       "      <td>0</td>\n",
       "    </tr>\n",
       "    <tr>\n",
       "      <th>3</th>\n",
       "      <td>Ayurveda</td>\n",
       "      <td>-999.0</td>\n",
       "      <td>True</td>\n",
       "      <td>0.0</td>\n",
       "      <td>New Ashok Nagar</td>\n",
       "      <td>Delhi</td>\n",
       "      <td>0</td>\n",
       "      <td>0</td>\n",
       "      <td>0</td>\n",
       "      <td>1</td>\n",
       "      <td>...</td>\n",
       "      <td>0</td>\n",
       "      <td>0</td>\n",
       "      <td>0</td>\n",
       "      <td>0</td>\n",
       "      <td>0</td>\n",
       "      <td>0</td>\n",
       "      <td>0</td>\n",
       "      <td>0</td>\n",
       "      <td>0</td>\n",
       "      <td>0</td>\n",
       "    </tr>\n",
       "    <tr>\n",
       "      <th>4</th>\n",
       "      <td>Dentist</td>\n",
       "      <td>100.0</td>\n",
       "      <td>False</td>\n",
       "      <td>16.0</td>\n",
       "      <td>Kanakpura Road</td>\n",
       "      <td>Bangalore</td>\n",
       "      <td>0</td>\n",
       "      <td>0</td>\n",
       "      <td>0</td>\n",
       "      <td>0</td>\n",
       "      <td>...</td>\n",
       "      <td>0</td>\n",
       "      <td>0</td>\n",
       "      <td>0</td>\n",
       "      <td>0</td>\n",
       "      <td>0</td>\n",
       "      <td>0</td>\n",
       "      <td>0</td>\n",
       "      <td>0</td>\n",
       "      <td>0</td>\n",
       "      <td>0</td>\n",
       "    </tr>\n",
       "  </tbody>\n",
       "</table>\n",
       "<p>5 rows × 256 columns</p>\n",
       "</div>"
      ],
      "text/plain": [
       "                4      6      7     8                 9          10   11   \\\n",
       "0  General Medicine -999.0   True  35.0    Ghatkopar East     Mumbai    0   \n",
       "1    ENT Specialist -999.0   True  31.0  West Marredpally  Hyderabad    0   \n",
       "2    Dermatologists   70.0  False  40.0          KK Nagar    Chennai    0   \n",
       "3          Ayurveda -999.0   True   0.0   New Ashok Nagar      Delhi    0   \n",
       "4           Dentist  100.0  False  16.0    Kanakpura Road  Bangalore    0   \n",
       "\n",
       "   12   13   14   ...  251  252  253  254  255  256  257  258  259  260  \n",
       "0    0    0    0  ...    0    0    0    0    0    0    0    0    0    0  \n",
       "1    0    0    0  ...    0    0    0    0    0    0    0    0    0    0  \n",
       "2    0    0    0  ...    0    0    0    0    0    0    0    0    0    0  \n",
       "3    0    0    1  ...    0    0    0    0    0    0    0    0    0    0  \n",
       "4    0    0    0  ...    0    0    0    0    0    0    0    0    0    0  \n",
       "\n",
       "[5 rows x 256 columns]"
      ]
     },
     "execution_count": 193,
     "metadata": {},
     "output_type": "execute_result"
    }
   ],
   "source": [
    "lol.head()"
   ]
  },
  {
   "cell_type": "code",
   "execution_count": 192,
   "metadata": {},
   "outputs": [
    {
     "data": {
      "text/html": [
       "<div>\n",
       "<style scoped>\n",
       "    .dataframe tbody tr th:only-of-type {\n",
       "        vertical-align: middle;\n",
       "    }\n",
       "\n",
       "    .dataframe tbody tr th {\n",
       "        vertical-align: top;\n",
       "    }\n",
       "\n",
       "    .dataframe thead th {\n",
       "        text-align: right;\n",
       "    }\n",
       "</style>\n",
       "<table border=\"1\" class=\"dataframe\">\n",
       "  <thead>\n",
       "    <tr style=\"text-align: right;\">\n",
       "      <th></th>\n",
       "      <th>4</th>\n",
       "      <th>6</th>\n",
       "      <th>7</th>\n",
       "      <th>8</th>\n",
       "      <th>9</th>\n",
       "      <th>10</th>\n",
       "      <th>11</th>\n",
       "      <th>12</th>\n",
       "      <th>13</th>\n",
       "      <th>14</th>\n",
       "      <th>...</th>\n",
       "      <th>252</th>\n",
       "      <th>253</th>\n",
       "      <th>254</th>\n",
       "      <th>255</th>\n",
       "      <th>256</th>\n",
       "      <th>257</th>\n",
       "      <th>258</th>\n",
       "      <th>259</th>\n",
       "      <th>260</th>\n",
       "      <th>261</th>\n",
       "    </tr>\n",
       "  </thead>\n",
       "  <tbody>\n",
       "    <tr>\n",
       "      <th>0</th>\n",
       "      <td>Homeopath</td>\n",
       "      <td>100</td>\n",
       "      <td>100.0</td>\n",
       "      <td>False</td>\n",
       "      <td>24.0</td>\n",
       "      <td>Kakkanad</td>\n",
       "      <td>Ernakulam</td>\n",
       "      <td>0</td>\n",
       "      <td>0</td>\n",
       "      <td>0</td>\n",
       "      <td>...</td>\n",
       "      <td>0</td>\n",
       "      <td>0</td>\n",
       "      <td>0</td>\n",
       "      <td>0</td>\n",
       "      <td>0</td>\n",
       "      <td>0</td>\n",
       "      <td>0</td>\n",
       "      <td>0</td>\n",
       "      <td>0</td>\n",
       "      <td>0</td>\n",
       "    </tr>\n",
       "    <tr>\n",
       "      <th>1</th>\n",
       "      <td>Ayurveda</td>\n",
       "      <td>350</td>\n",
       "      <td>98.0</td>\n",
       "      <td>False</td>\n",
       "      <td>12.0</td>\n",
       "      <td>Whitefield</td>\n",
       "      <td>Bangalore</td>\n",
       "      <td>0</td>\n",
       "      <td>0</td>\n",
       "      <td>1</td>\n",
       "      <td>...</td>\n",
       "      <td>0</td>\n",
       "      <td>0</td>\n",
       "      <td>0</td>\n",
       "      <td>0</td>\n",
       "      <td>0</td>\n",
       "      <td>0</td>\n",
       "      <td>1</td>\n",
       "      <td>0</td>\n",
       "      <td>0</td>\n",
       "      <td>0</td>\n",
       "    </tr>\n",
       "    <tr>\n",
       "      <th>2</th>\n",
       "      <td>ENT Specialist</td>\n",
       "      <td>300</td>\n",
       "      <td>-999.0</td>\n",
       "      <td>True</td>\n",
       "      <td>9.0</td>\n",
       "      <td>Mathikere - BEL</td>\n",
       "      <td>Bangalore</td>\n",
       "      <td>0</td>\n",
       "      <td>0</td>\n",
       "      <td>0</td>\n",
       "      <td>...</td>\n",
       "      <td>0</td>\n",
       "      <td>0</td>\n",
       "      <td>0</td>\n",
       "      <td>0</td>\n",
       "      <td>0</td>\n",
       "      <td>0</td>\n",
       "      <td>0</td>\n",
       "      <td>0</td>\n",
       "      <td>0</td>\n",
       "      <td>0</td>\n",
       "    </tr>\n",
       "    <tr>\n",
       "      <th>3</th>\n",
       "      <td>Ayurveda</td>\n",
       "      <td>250</td>\n",
       "      <td>-999.0</td>\n",
       "      <td>True</td>\n",
       "      <td>12.0</td>\n",
       "      <td>Bannerghatta Road</td>\n",
       "      <td>Bangalore</td>\n",
       "      <td>0</td>\n",
       "      <td>0</td>\n",
       "      <td>0</td>\n",
       "      <td>...</td>\n",
       "      <td>0</td>\n",
       "      <td>0</td>\n",
       "      <td>0</td>\n",
       "      <td>0</td>\n",
       "      <td>0</td>\n",
       "      <td>0</td>\n",
       "      <td>0</td>\n",
       "      <td>0</td>\n",
       "      <td>0</td>\n",
       "      <td>0</td>\n",
       "    </tr>\n",
       "    <tr>\n",
       "      <th>4</th>\n",
       "      <td>Ayurveda</td>\n",
       "      <td>250</td>\n",
       "      <td>100.0</td>\n",
       "      <td>False</td>\n",
       "      <td>20.0</td>\n",
       "      <td>Keelkattalai</td>\n",
       "      <td>Chennai</td>\n",
       "      <td>0</td>\n",
       "      <td>0</td>\n",
       "      <td>0</td>\n",
       "      <td>...</td>\n",
       "      <td>0</td>\n",
       "      <td>0</td>\n",
       "      <td>0</td>\n",
       "      <td>0</td>\n",
       "      <td>0</td>\n",
       "      <td>0</td>\n",
       "      <td>0</td>\n",
       "      <td>0</td>\n",
       "      <td>0</td>\n",
       "      <td>0</td>\n",
       "    </tr>\n",
       "  </tbody>\n",
       "</table>\n",
       "<p>5 rows × 257 columns</p>\n",
       "</div>"
      ],
      "text/plain": [
       "              4    6      7      8     9                  10         11   12   \\\n",
       "0       Homeopath  100  100.0  False  24.0           Kakkanad  Ernakulam    0   \n",
       "1        Ayurveda  350   98.0  False  12.0         Whitefield  Bangalore    0   \n",
       "2  ENT Specialist  300 -999.0   True   9.0    Mathikere - BEL  Bangalore    0   \n",
       "3        Ayurveda  250 -999.0   True  12.0  Bannerghatta Road  Bangalore    0   \n",
       "4        Ayurveda  250  100.0  False  20.0       Keelkattalai    Chennai    0   \n",
       "\n",
       "   13   14   ...  252  253  254  255  256  257  258  259  260  261  \n",
       "0    0    0  ...    0    0    0    0    0    0    0    0    0    0  \n",
       "1    0    1  ...    0    0    0    0    0    0    1    0    0    0  \n",
       "2    0    0  ...    0    0    0    0    0    0    0    0    0    0  \n",
       "3    0    0  ...    0    0    0    0    0    0    0    0    0    0  \n",
       "4    0    0  ...    0    0    0    0    0    0    0    0    0    0  \n",
       "\n",
       "[5 rows x 257 columns]"
      ]
     },
     "execution_count": 192,
     "metadata": {},
     "output_type": "execute_result"
    }
   ],
   "source": [
    "df.head()"
   ]
  },
  {
   "cell_type": "code",
   "execution_count": 194,
   "metadata": {},
   "outputs": [],
   "source": [
    "df2=df.drop([10],axis=1)"
   ]
  },
  {
   "cell_type": "code",
   "execution_count": 195,
   "metadata": {},
   "outputs": [],
   "source": [
    "df1=lol"
   ]
  },
  {
   "cell_type": "code",
   "execution_count": 196,
   "metadata": {},
   "outputs": [],
   "source": [
    "df[\"LocationNA\"]=df[10].isna()\n",
    "df1[\"LocationNA\"]=df1[9].isna()"
   ]
  },
  {
   "cell_type": "code",
   "execution_count": 197,
   "metadata": {},
   "outputs": [],
   "source": [
    "df[\"CityNA\"]=df[11].isna()\n",
    "df1[\"CityNA\"]=df1[10].isna()"
   ]
  },
  {
   "cell_type": "code",
   "execution_count": 198,
   "metadata": {},
   "outputs": [],
   "source": [
    "df[11].fillna(\"UnknownCity\",inplace=True)\n",
    "df1[10].fillna(\"UnknownCity\",inplace=True)\n",
    "df2[11].fillna(\"UnknownCity\",inplace=True)"
   ]
  },
  {
   "cell_type": "code",
   "execution_count": 199,
   "metadata": {},
   "outputs": [],
   "source": [
    "df[10].fillna(\"UnknownLocation\",inplace=True)\n",
    "df1[9].fillna(\"UnknownLocation\",inplace=True)"
   ]
  },
  {
   "cell_type": "code",
   "execution_count": 200,
   "metadata": {},
   "outputs": [],
   "source": [
    "groupbylocation=df.groupby(10)[6].mean()\n",
    "df['LOCDmean']=df[10].map(groupbylocation)\n",
    "df1['LOCDmean']=df1[9].map(groupbylocation)"
   ]
  },
  {
   "cell_type": "code",
   "execution_count": 201,
   "metadata": {},
   "outputs": [],
   "source": [
    "groupbylocationmin=df.groupby(10)[6].min()\n",
    "df['LOCDmin']=df[10].map(groupbylocationmin)\n",
    "df1['LOCDmin']=df1[9].map(groupbylocationmin)"
   ]
  },
  {
   "cell_type": "code",
   "execution_count": 202,
   "metadata": {},
   "outputs": [],
   "source": [
    "groupbylocationmax=df.groupby(10)[6].max()\n",
    "df['LOCDmax']=df[10].map(groupbylocationmax)\n",
    "df1['LOCDmax']=df1[9].map(groupbylocationmax)"
   ]
  },
  {
   "cell_type": "code",
   "execution_count": 203,
   "metadata": {},
   "outputs": [],
   "source": [
    "samekey.drop([9],axis=1,inplace=True)"
   ]
  },
  {
   "cell_type": "code",
   "execution_count": 204,
   "metadata": {},
   "outputs": [],
   "source": [
    "groupbycitymean=df.groupby(11)[6].mean()\n",
    "df['Citymean']=df[11].map(groupbycitymean)\n",
    "df1['Citymean']=df1[10].map(groupbycitymean)\n",
    "df2['Citymean']=df2[11].map(groupbycitymean)"
   ]
  },
  {
   "cell_type": "code",
   "execution_count": 205,
   "metadata": {},
   "outputs": [],
   "source": [
    "groupbycitymin=df.groupby(11)[6].min()\n",
    "df['Citymin']=df[11].map(groupbycitymin)\n",
    "df1['Citymin']=df1[10].map(groupbycitymin)\n",
    "df2['Citymin']=df2[11].map(groupbycitymin)"
   ]
  },
  {
   "cell_type": "code",
   "execution_count": 206,
   "metadata": {},
   "outputs": [],
   "source": [
    "groupbycitymax=df.groupby(11)[6].max()\n",
    "df['Citymax']=df[11].map(groupbycitymax)\n",
    "df1['Citymax']=df1[10].map(groupbycitymax)\n",
    "df2['Citymax']=df2[11].map(groupbycitymax)"
   ]
  },
  {
   "cell_type": "code",
   "execution_count": 207,
   "metadata": {},
   "outputs": [],
   "source": [
    "groupbycitydev=df.groupby(11)[6].std()\n",
    "df['Citystdev']=df[11].map(groupbycitydev)\n",
    "df1['Citystdev']=df1[10].map(groupbycitydev)\n",
    "df2['Citystdev']=df2[11].map(groupbycitydev)"
   ]
  },
  {
   "cell_type": "code",
   "execution_count": 208,
   "metadata": {},
   "outputs": [],
   "source": [
    "samekey['Citymean']=samekey[10].map(groupbycitymean)\n",
    "samekey['Citymin']=samekey[10].map(groupbycitymin)\n",
    "samekey['Citymax']=samekey[10].map(groupbycitymax)\n",
    "samekey['Citystdev']=samekey[10].map(groupbycitydev)"
   ]
  },
  {
   "cell_type": "code",
   "execution_count": 209,
   "metadata": {},
   "outputs": [],
   "source": [
    "stdev=df['Citystdev'].std()\n",
    "stdev2=df2['Citystdev'].std()"
   ]
  },
  {
   "cell_type": "code",
   "execution_count": 210,
   "metadata": {},
   "outputs": [],
   "source": [
    "df['Citystdev']=df['Citystdev'].fillna(stdev,axis=0)\n",
    "df2['Citystdev']=df2['Citystdev'].fillna(stdev,axis=0)"
   ]
  },
  {
   "cell_type": "code",
   "execution_count": 211,
   "metadata": {},
   "outputs": [
    {
     "data": {
      "text/html": [
       "<div>\n",
       "<style scoped>\n",
       "    .dataframe tbody tr th:only-of-type {\n",
       "        vertical-align: middle;\n",
       "    }\n",
       "\n",
       "    .dataframe tbody tr th {\n",
       "        vertical-align: top;\n",
       "    }\n",
       "\n",
       "    .dataframe thead th {\n",
       "        text-align: right;\n",
       "    }\n",
       "</style>\n",
       "<table border=\"1\" class=\"dataframe\">\n",
       "  <thead>\n",
       "    <tr style=\"text-align: right;\">\n",
       "      <th></th>\n",
       "      <th>4</th>\n",
       "      <th>6</th>\n",
       "      <th>7</th>\n",
       "      <th>8</th>\n",
       "      <th>9</th>\n",
       "      <th>10</th>\n",
       "      <th>11</th>\n",
       "      <th>12</th>\n",
       "      <th>13</th>\n",
       "      <th>14</th>\n",
       "      <th>...</th>\n",
       "      <th>260</th>\n",
       "      <th>LocationNA</th>\n",
       "      <th>CityNA</th>\n",
       "      <th>LOCDmean</th>\n",
       "      <th>LOCDmin</th>\n",
       "      <th>LOCDmax</th>\n",
       "      <th>Citymean</th>\n",
       "      <th>Citymin</th>\n",
       "      <th>Citymax</th>\n",
       "      <th>Citystdev</th>\n",
       "    </tr>\n",
       "  </thead>\n",
       "  <tbody>\n",
       "    <tr>\n",
       "      <th>0</th>\n",
       "      <td>General Medicine</td>\n",
       "      <td>-999.0</td>\n",
       "      <td>True</td>\n",
       "      <td>35.0</td>\n",
       "      <td>Ghatkopar East</td>\n",
       "      <td>Mumbai</td>\n",
       "      <td>0</td>\n",
       "      <td>0</td>\n",
       "      <td>0</td>\n",
       "      <td>0</td>\n",
       "      <td>...</td>\n",
       "      <td>0</td>\n",
       "      <td>False</td>\n",
       "      <td>False</td>\n",
       "      <td>333.684211</td>\n",
       "      <td>50</td>\n",
       "      <td>800</td>\n",
       "      <td>308.292863</td>\n",
       "      <td>10</td>\n",
       "      <td>920</td>\n",
       "      <td>234.584964</td>\n",
       "    </tr>\n",
       "    <tr>\n",
       "      <th>1</th>\n",
       "      <td>ENT Specialist</td>\n",
       "      <td>-999.0</td>\n",
       "      <td>True</td>\n",
       "      <td>31.0</td>\n",
       "      <td>West Marredpally</td>\n",
       "      <td>Hyderabad</td>\n",
       "      <td>0</td>\n",
       "      <td>0</td>\n",
       "      <td>0</td>\n",
       "      <td>0</td>\n",
       "      <td>...</td>\n",
       "      <td>0</td>\n",
       "      <td>False</td>\n",
       "      <td>False</td>\n",
       "      <td>361.111111</td>\n",
       "      <td>150</td>\n",
       "      <td>500</td>\n",
       "      <td>307.507886</td>\n",
       "      <td>20</td>\n",
       "      <td>800</td>\n",
       "      <td>152.340317</td>\n",
       "    </tr>\n",
       "    <tr>\n",
       "      <th>2</th>\n",
       "      <td>Dermatologists</td>\n",
       "      <td>70.0</td>\n",
       "      <td>False</td>\n",
       "      <td>40.0</td>\n",
       "      <td>KK Nagar</td>\n",
       "      <td>Chennai</td>\n",
       "      <td>0</td>\n",
       "      <td>0</td>\n",
       "      <td>0</td>\n",
       "      <td>0</td>\n",
       "      <td>...</td>\n",
       "      <td>0</td>\n",
       "      <td>False</td>\n",
       "      <td>False</td>\n",
       "      <td>271.428571</td>\n",
       "      <td>100</td>\n",
       "      <td>500</td>\n",
       "      <td>283.602339</td>\n",
       "      <td>50</td>\n",
       "      <td>950</td>\n",
       "      <td>167.797081</td>\n",
       "    </tr>\n",
       "    <tr>\n",
       "      <th>3</th>\n",
       "      <td>Ayurveda</td>\n",
       "      <td>-999.0</td>\n",
       "      <td>True</td>\n",
       "      <td>0.0</td>\n",
       "      <td>New Ashok Nagar</td>\n",
       "      <td>Delhi</td>\n",
       "      <td>0</td>\n",
       "      <td>0</td>\n",
       "      <td>0</td>\n",
       "      <td>1</td>\n",
       "      <td>...</td>\n",
       "      <td>0</td>\n",
       "      <td>False</td>\n",
       "      <td>False</td>\n",
       "      <td>233.333333</td>\n",
       "      <td>100</td>\n",
       "      <td>300</td>\n",
       "      <td>363.006757</td>\n",
       "      <td>50</td>\n",
       "      <td>900</td>\n",
       "      <td>212.523175</td>\n",
       "    </tr>\n",
       "    <tr>\n",
       "      <th>4</th>\n",
       "      <td>Dentist</td>\n",
       "      <td>100.0</td>\n",
       "      <td>False</td>\n",
       "      <td>16.0</td>\n",
       "      <td>Kanakpura Road</td>\n",
       "      <td>Bangalore</td>\n",
       "      <td>0</td>\n",
       "      <td>0</td>\n",
       "      <td>0</td>\n",
       "      <td>0</td>\n",
       "      <td>...</td>\n",
       "      <td>0</td>\n",
       "      <td>False</td>\n",
       "      <td>False</td>\n",
       "      <td>345.000000</td>\n",
       "      <td>250</td>\n",
       "      <td>500</td>\n",
       "      <td>328.842607</td>\n",
       "      <td>30</td>\n",
       "      <td>900</td>\n",
       "      <td>159.136744</td>\n",
       "    </tr>\n",
       "  </tbody>\n",
       "</table>\n",
       "<p>5 rows × 265 columns</p>\n",
       "</div>"
      ],
      "text/plain": [
       "                  4      6      7     8                 9         10  11  12  \\\n",
       "0  General Medicine -999.0   True  35.0    Ghatkopar East     Mumbai   0   0   \n",
       "1    ENT Specialist -999.0   True  31.0  West Marredpally  Hyderabad   0   0   \n",
       "2    Dermatologists   70.0  False  40.0          KK Nagar    Chennai   0   0   \n",
       "3          Ayurveda -999.0   True   0.0   New Ashok Nagar      Delhi   0   0   \n",
       "4           Dentist  100.0  False  16.0    Kanakpura Road  Bangalore   0   0   \n",
       "\n",
       "   13  14  ...  260  LocationNA  CityNA    LOCDmean  LOCDmin  LOCDmax  \\\n",
       "0   0   0  ...    0       False   False  333.684211       50      800   \n",
       "1   0   0  ...    0       False   False  361.111111      150      500   \n",
       "2   0   0  ...    0       False   False  271.428571      100      500   \n",
       "3   0   1  ...    0       False   False  233.333333      100      300   \n",
       "4   0   0  ...    0       False   False  345.000000      250      500   \n",
       "\n",
       "     Citymean  Citymin  Citymax   Citystdev  \n",
       "0  308.292863       10      920  234.584964  \n",
       "1  307.507886       20      800  152.340317  \n",
       "2  283.602339       50      950  167.797081  \n",
       "3  363.006757       50      900  212.523175  \n",
       "4  328.842607       30      900  159.136744  \n",
       "\n",
       "[5 rows x 265 columns]"
      ]
     },
     "execution_count": 211,
     "metadata": {},
     "output_type": "execute_result"
    }
   ],
   "source": [
    "df1.head()"
   ]
  },
  {
   "cell_type": "code",
   "execution_count": 212,
   "metadata": {},
   "outputs": [],
   "source": [
    "df[\"ProfLoc\"]=df[4].astype(str) + \"_\" + df[10].astype(str)\n",
    "df1[\"ProfLoc\"]=df1[4].astype(str) + \"_\" + df1[9].astype(str)"
   ]
  },
  {
   "cell_type": "code",
   "execution_count": 213,
   "metadata": {},
   "outputs": [],
   "source": [
    "groupbyprofloc=df.groupby('ProfLoc')[6].mean()\n",
    "df['PLocmean']=df['ProfLoc'].map(groupbyprofloc)\n",
    "df1['PLocmean']=df1['ProfLoc'].map(groupbyprofloc)"
   ]
  },
  {
   "cell_type": "code",
   "execution_count": 214,
   "metadata": {},
   "outputs": [
    {
     "data": {
      "text/plain": [
       "0"
      ]
     },
     "execution_count": 214,
     "metadata": {},
     "output_type": "execute_result"
    }
   ],
   "source": [
    "df1['ProfLoc'].isnull().sum()"
   ]
  },
  {
   "cell_type": "code",
   "execution_count": 215,
   "metadata": {},
   "outputs": [
    {
     "data": {
      "text/html": [
       "<div>\n",
       "<style scoped>\n",
       "    .dataframe tbody tr th:only-of-type {\n",
       "        vertical-align: middle;\n",
       "    }\n",
       "\n",
       "    .dataframe tbody tr th {\n",
       "        vertical-align: top;\n",
       "    }\n",
       "\n",
       "    .dataframe thead th {\n",
       "        text-align: right;\n",
       "    }\n",
       "</style>\n",
       "<table border=\"1\" class=\"dataframe\">\n",
       "  <thead>\n",
       "    <tr style=\"text-align: right;\">\n",
       "      <th></th>\n",
       "      <th>4</th>\n",
       "      <th>6</th>\n",
       "      <th>7</th>\n",
       "      <th>8</th>\n",
       "      <th>9</th>\n",
       "      <th>10</th>\n",
       "      <th>11</th>\n",
       "      <th>12</th>\n",
       "      <th>13</th>\n",
       "      <th>14</th>\n",
       "      <th>...</th>\n",
       "      <th>CityNA</th>\n",
       "      <th>LOCDmean</th>\n",
       "      <th>LOCDmin</th>\n",
       "      <th>LOCDmax</th>\n",
       "      <th>Citymean</th>\n",
       "      <th>Citymin</th>\n",
       "      <th>Citymax</th>\n",
       "      <th>Citystdev</th>\n",
       "      <th>ProfLoc</th>\n",
       "      <th>PLocmean</th>\n",
       "    </tr>\n",
       "  </thead>\n",
       "  <tbody>\n",
       "    <tr>\n",
       "      <th>2</th>\n",
       "      <td>Dermatologists</td>\n",
       "      <td>70.0</td>\n",
       "      <td>False</td>\n",
       "      <td>40.0</td>\n",
       "      <td>KK Nagar</td>\n",
       "      <td>Chennai</td>\n",
       "      <td>0</td>\n",
       "      <td>0</td>\n",
       "      <td>0</td>\n",
       "      <td>0</td>\n",
       "      <td>...</td>\n",
       "      <td>False</td>\n",
       "      <td>271.428571</td>\n",
       "      <td>100</td>\n",
       "      <td>500</td>\n",
       "      <td>283.602339</td>\n",
       "      <td>50</td>\n",
       "      <td>950</td>\n",
       "      <td>167.797081</td>\n",
       "      <td>Dermatologists_KK Nagar</td>\n",
       "      <td>NaN</td>\n",
       "    </tr>\n",
       "    <tr>\n",
       "      <th>3</th>\n",
       "      <td>Ayurveda</td>\n",
       "      <td>-999.0</td>\n",
       "      <td>True</td>\n",
       "      <td>0.0</td>\n",
       "      <td>New Ashok Nagar</td>\n",
       "      <td>Delhi</td>\n",
       "      <td>0</td>\n",
       "      <td>0</td>\n",
       "      <td>0</td>\n",
       "      <td>1</td>\n",
       "      <td>...</td>\n",
       "      <td>False</td>\n",
       "      <td>233.333333</td>\n",
       "      <td>100</td>\n",
       "      <td>300</td>\n",
       "      <td>363.006757</td>\n",
       "      <td>50</td>\n",
       "      <td>900</td>\n",
       "      <td>212.523175</td>\n",
       "      <td>Ayurveda_New Ashok Nagar</td>\n",
       "      <td>NaN</td>\n",
       "    </tr>\n",
       "    <tr>\n",
       "      <th>10</th>\n",
       "      <td>Dentist</td>\n",
       "      <td>100.0</td>\n",
       "      <td>False</td>\n",
       "      <td>4.0</td>\n",
       "      <td>Erragadda</td>\n",
       "      <td>Hyderabad</td>\n",
       "      <td>0</td>\n",
       "      <td>0</td>\n",
       "      <td>0</td>\n",
       "      <td>0</td>\n",
       "      <td>...</td>\n",
       "      <td>False</td>\n",
       "      <td>358.333333</td>\n",
       "      <td>100</td>\n",
       "      <td>500</td>\n",
       "      <td>307.507886</td>\n",
       "      <td>20</td>\n",
       "      <td>800</td>\n",
       "      <td>152.340317</td>\n",
       "      <td>Dentist_Erragadda</td>\n",
       "      <td>NaN</td>\n",
       "    </tr>\n",
       "    <tr>\n",
       "      <th>14</th>\n",
       "      <td>ENT Specialist</td>\n",
       "      <td>-999.0</td>\n",
       "      <td>True</td>\n",
       "      <td>4.0</td>\n",
       "      <td>Madandapuram</td>\n",
       "      <td>Chennai</td>\n",
       "      <td>0</td>\n",
       "      <td>0</td>\n",
       "      <td>0</td>\n",
       "      <td>0</td>\n",
       "      <td>...</td>\n",
       "      <td>False</td>\n",
       "      <td>200.000000</td>\n",
       "      <td>200</td>\n",
       "      <td>200</td>\n",
       "      <td>283.602339</td>\n",
       "      <td>50</td>\n",
       "      <td>950</td>\n",
       "      <td>167.797081</td>\n",
       "      <td>ENT Specialist_Madandapuram</td>\n",
       "      <td>NaN</td>\n",
       "    </tr>\n",
       "    <tr>\n",
       "      <th>16</th>\n",
       "      <td>Dermatologists</td>\n",
       "      <td>87.0</td>\n",
       "      <td>False</td>\n",
       "      <td>16.0</td>\n",
       "      <td>Tis Hazari</td>\n",
       "      <td>Delhi</td>\n",
       "      <td>0</td>\n",
       "      <td>0</td>\n",
       "      <td>0</td>\n",
       "      <td>0</td>\n",
       "      <td>...</td>\n",
       "      <td>False</td>\n",
       "      <td>550.000000</td>\n",
       "      <td>550</td>\n",
       "      <td>550</td>\n",
       "      <td>363.006757</td>\n",
       "      <td>50</td>\n",
       "      <td>900</td>\n",
       "      <td>212.523175</td>\n",
       "      <td>Dermatologists_Tis Hazari</td>\n",
       "      <td>NaN</td>\n",
       "    </tr>\n",
       "    <tr>\n",
       "      <th>...</th>\n",
       "      <td>...</td>\n",
       "      <td>...</td>\n",
       "      <td>...</td>\n",
       "      <td>...</td>\n",
       "      <td>...</td>\n",
       "      <td>...</td>\n",
       "      <td>...</td>\n",
       "      <td>...</td>\n",
       "      <td>...</td>\n",
       "      <td>...</td>\n",
       "      <td>...</td>\n",
       "      <td>...</td>\n",
       "      <td>...</td>\n",
       "      <td>...</td>\n",
       "      <td>...</td>\n",
       "      <td>...</td>\n",
       "      <td>...</td>\n",
       "      <td>...</td>\n",
       "      <td>...</td>\n",
       "      <td>...</td>\n",
       "      <td>...</td>\n",
       "    </tr>\n",
       "    <tr>\n",
       "      <th>1949</th>\n",
       "      <td>Dermatologists</td>\n",
       "      <td>-999.0</td>\n",
       "      <td>True</td>\n",
       "      <td>6.0</td>\n",
       "      <td>Ramapuram</td>\n",
       "      <td>Chennai</td>\n",
       "      <td>0</td>\n",
       "      <td>0</td>\n",
       "      <td>0</td>\n",
       "      <td>0</td>\n",
       "      <td>...</td>\n",
       "      <td>False</td>\n",
       "      <td>200.000000</td>\n",
       "      <td>200</td>\n",
       "      <td>200</td>\n",
       "      <td>283.602339</td>\n",
       "      <td>50</td>\n",
       "      <td>950</td>\n",
       "      <td>167.797081</td>\n",
       "      <td>Dermatologists_Ramapuram</td>\n",
       "      <td>NaN</td>\n",
       "    </tr>\n",
       "    <tr>\n",
       "      <th>1967</th>\n",
       "      <td>Dentist</td>\n",
       "      <td>98.0</td>\n",
       "      <td>False</td>\n",
       "      <td>13.0</td>\n",
       "      <td>Yelahanka</td>\n",
       "      <td>Bangalore</td>\n",
       "      <td>0</td>\n",
       "      <td>0</td>\n",
       "      <td>0</td>\n",
       "      <td>0</td>\n",
       "      <td>...</td>\n",
       "      <td>False</td>\n",
       "      <td>329.333333</td>\n",
       "      <td>150</td>\n",
       "      <td>750</td>\n",
       "      <td>328.842607</td>\n",
       "      <td>30</td>\n",
       "      <td>900</td>\n",
       "      <td>159.136744</td>\n",
       "      <td>Dentist_Yelahanka</td>\n",
       "      <td>NaN</td>\n",
       "    </tr>\n",
       "    <tr>\n",
       "      <th>1970</th>\n",
       "      <td>Dentist</td>\n",
       "      <td>-999.0</td>\n",
       "      <td>True</td>\n",
       "      <td>7.0</td>\n",
       "      <td>Sundarapuram</td>\n",
       "      <td>Coimbatore</td>\n",
       "      <td>0</td>\n",
       "      <td>1</td>\n",
       "      <td>0</td>\n",
       "      <td>0</td>\n",
       "      <td>...</td>\n",
       "      <td>False</td>\n",
       "      <td>200.000000</td>\n",
       "      <td>200</td>\n",
       "      <td>200</td>\n",
       "      <td>154.298246</td>\n",
       "      <td>50</td>\n",
       "      <td>700</td>\n",
       "      <td>77.339794</td>\n",
       "      <td>Dentist_Sundarapuram</td>\n",
       "      <td>NaN</td>\n",
       "    </tr>\n",
       "    <tr>\n",
       "      <th>1974</th>\n",
       "      <td>ENT Specialist</td>\n",
       "      <td>-999.0</td>\n",
       "      <td>True</td>\n",
       "      <td>19.0</td>\n",
       "      <td>Munirka</td>\n",
       "      <td>Delhi</td>\n",
       "      <td>0</td>\n",
       "      <td>0</td>\n",
       "      <td>0</td>\n",
       "      <td>0</td>\n",
       "      <td>...</td>\n",
       "      <td>False</td>\n",
       "      <td>460.000000</td>\n",
       "      <td>300</td>\n",
       "      <td>600</td>\n",
       "      <td>363.006757</td>\n",
       "      <td>50</td>\n",
       "      <td>900</td>\n",
       "      <td>212.523175</td>\n",
       "      <td>ENT Specialist_Munirka</td>\n",
       "      <td>NaN</td>\n",
       "    </tr>\n",
       "    <tr>\n",
       "      <th>1986</th>\n",
       "      <td>Dermatologists</td>\n",
       "      <td>-999.0</td>\n",
       "      <td>True</td>\n",
       "      <td>8.0</td>\n",
       "      <td>Pallikaranai</td>\n",
       "      <td>Chennai</td>\n",
       "      <td>0</td>\n",
       "      <td>0</td>\n",
       "      <td>0</td>\n",
       "      <td>0</td>\n",
       "      <td>...</td>\n",
       "      <td>False</td>\n",
       "      <td>356.666667</td>\n",
       "      <td>100</td>\n",
       "      <td>600</td>\n",
       "      <td>283.602339</td>\n",
       "      <td>50</td>\n",
       "      <td>950</td>\n",
       "      <td>167.797081</td>\n",
       "      <td>Dermatologists_Pallikaranai</td>\n",
       "      <td>NaN</td>\n",
       "    </tr>\n",
       "  </tbody>\n",
       "</table>\n",
       "<p>339 rows × 267 columns</p>\n",
       "</div>"
      ],
      "text/plain": [
       "                   4      6      7     8                9          10  11  12  \\\n",
       "2     Dermatologists   70.0  False  40.0         KK Nagar     Chennai   0   0   \n",
       "3           Ayurveda -999.0   True   0.0  New Ashok Nagar       Delhi   0   0   \n",
       "10           Dentist  100.0  False   4.0        Erragadda   Hyderabad   0   0   \n",
       "14    ENT Specialist -999.0   True   4.0     Madandapuram     Chennai   0   0   \n",
       "16    Dermatologists   87.0  False  16.0       Tis Hazari       Delhi   0   0   \n",
       "...              ...    ...    ...   ...              ...         ...  ..  ..   \n",
       "1949  Dermatologists -999.0   True   6.0        Ramapuram     Chennai   0   0   \n",
       "1967         Dentist   98.0  False  13.0        Yelahanka   Bangalore   0   0   \n",
       "1970         Dentist -999.0   True   7.0     Sundarapuram  Coimbatore   0   1   \n",
       "1974  ENT Specialist -999.0   True  19.0          Munirka       Delhi   0   0   \n",
       "1986  Dermatologists -999.0   True   8.0     Pallikaranai     Chennai   0   0   \n",
       "\n",
       "      13  14  ...  CityNA    LOCDmean  LOCDmin  LOCDmax    Citymean  Citymin  \\\n",
       "2      0   0  ...   False  271.428571      100      500  283.602339       50   \n",
       "3      0   1  ...   False  233.333333      100      300  363.006757       50   \n",
       "10     0   0  ...   False  358.333333      100      500  307.507886       20   \n",
       "14     0   0  ...   False  200.000000      200      200  283.602339       50   \n",
       "16     0   0  ...   False  550.000000      550      550  363.006757       50   \n",
       "...   ..  ..  ...     ...         ...      ...      ...         ...      ...   \n",
       "1949   0   0  ...   False  200.000000      200      200  283.602339       50   \n",
       "1967   0   0  ...   False  329.333333      150      750  328.842607       30   \n",
       "1970   0   0  ...   False  200.000000      200      200  154.298246       50   \n",
       "1974   0   0  ...   False  460.000000      300      600  363.006757       50   \n",
       "1986   0   0  ...   False  356.666667      100      600  283.602339       50   \n",
       "\n",
       "      Citymax   Citystdev                      ProfLoc  PLocmean  \n",
       "2         950  167.797081      Dermatologists_KK Nagar       NaN  \n",
       "3         900  212.523175     Ayurveda_New Ashok Nagar       NaN  \n",
       "10        800  152.340317            Dentist_Erragadda       NaN  \n",
       "14        950  167.797081  ENT Specialist_Madandapuram       NaN  \n",
       "16        900  212.523175    Dermatologists_Tis Hazari       NaN  \n",
       "...       ...         ...                          ...       ...  \n",
       "1949      950  167.797081     Dermatologists_Ramapuram       NaN  \n",
       "1967      900  159.136744            Dentist_Yelahanka       NaN  \n",
       "1970      700   77.339794         Dentist_Sundarapuram       NaN  \n",
       "1974      900  212.523175       ENT Specialist_Munirka       NaN  \n",
       "1986      950  167.797081  Dermatologists_Pallikaranai       NaN  \n",
       "\n",
       "[339 rows x 267 columns]"
      ]
     },
     "execution_count": 215,
     "metadata": {},
     "output_type": "execute_result"
    }
   ],
   "source": [
    "df1[df1['PLocmean'].isna()]"
   ]
  },
  {
   "cell_type": "code",
   "execution_count": 216,
   "metadata": {},
   "outputs": [
    {
     "data": {
      "text/plain": [
       "339"
      ]
     },
     "execution_count": 216,
     "metadata": {},
     "output_type": "execute_result"
    }
   ],
   "source": [
    "df1['PLocmean'].isnull().sum()"
   ]
  },
  {
   "cell_type": "code",
   "execution_count": 217,
   "metadata": {},
   "outputs": [
    {
     "data": {
      "text/plain": [
       "(1904, 267)"
      ]
     },
     "execution_count": 217,
     "metadata": {},
     "output_type": "execute_result"
    }
   ],
   "source": [
    "df1.shape"
   ]
  },
  {
   "cell_type": "code",
   "execution_count": 218,
   "metadata": {},
   "outputs": [
    {
     "data": {
      "text/plain": [
       "307.9446401610457"
      ]
     },
     "execution_count": 218,
     "metadata": {},
     "output_type": "execute_result"
    }
   ],
   "source": [
    "df['PLocmean'].mean()"
   ]
  },
  {
   "cell_type": "code",
   "execution_count": 219,
   "metadata": {},
   "outputs": [],
   "source": [
    "mean=df1['PLocmean'].mean()"
   ]
  },
  {
   "cell_type": "code",
   "execution_count": 220,
   "metadata": {},
   "outputs": [
    {
     "data": {
      "text/plain": [
       "322.8976478322505"
      ]
     },
     "execution_count": 220,
     "metadata": {},
     "output_type": "execute_result"
    }
   ],
   "source": [
    "mean"
   ]
  },
  {
   "cell_type": "code",
   "execution_count": 221,
   "metadata": {},
   "outputs": [],
   "source": [
    "df1['PLocmean']=df1['PLocmean'].fillna(mean,axis=0)"
   ]
  },
  {
   "cell_type": "code",
   "execution_count": 222,
   "metadata": {},
   "outputs": [
    {
     "data": {
      "text/plain": [
       "0"
      ]
     },
     "execution_count": 222,
     "metadata": {},
     "output_type": "execute_result"
    }
   ],
   "source": [
    "df1['PLocmean'].isnull().sum()"
   ]
  },
  {
   "cell_type": "code",
   "execution_count": 223,
   "metadata": {},
   "outputs": [],
   "source": [
    "df.drop(['ProfLoc'],axis=1,inplace=True)\n",
    "df1.drop(['ProfLoc'],axis=1,inplace=True)"
   ]
  },
  {
   "cell_type": "code",
   "execution_count": 224,
   "metadata": {},
   "outputs": [],
   "source": [
    "X=df.drop([6],axis=1)"
   ]
  },
  {
   "cell_type": "code",
   "execution_count": 225,
   "metadata": {},
   "outputs": [],
   "source": [
    "X1=df2.drop([6],axis=1)"
   ]
  },
  {
   "cell_type": "code",
   "execution_count": 226,
   "metadata": {},
   "outputs": [],
   "source": [
    "y=df[6]"
   ]
  },
  {
   "cell_type": "code",
   "execution_count": 227,
   "metadata": {},
   "outputs": [],
   "source": [
    "y1=df2[6]"
   ]
  },
  {
   "cell_type": "code",
   "execution_count": 228,
   "metadata": {},
   "outputs": [],
   "source": [
    "test=df1"
   ]
  },
  {
   "cell_type": "code",
   "execution_count": 229,
   "metadata": {},
   "outputs": [],
   "source": [
    "test2=samekey"
   ]
  },
  {
   "cell_type": "code",
   "execution_count": 230,
   "metadata": {},
   "outputs": [],
   "source": [
    "X.columns=range(X.shape[1])"
   ]
  },
  {
   "cell_type": "code",
   "execution_count": 231,
   "metadata": {},
   "outputs": [],
   "source": [
    "X1.columns=range(X1.shape[1])"
   ]
  },
  {
   "cell_type": "code",
   "execution_count": 232,
   "metadata": {},
   "outputs": [],
   "source": [
    "test.columns=range(test.shape[1])"
   ]
  },
  {
   "cell_type": "code",
   "execution_count": 233,
   "metadata": {},
   "outputs": [],
   "source": [
    "test2.columns=range(test2.shape[1])"
   ]
  },
  {
   "cell_type": "code",
   "execution_count": 234,
   "metadata": {},
   "outputs": [
    {
     "data": {
      "text/html": [
       "<div>\n",
       "<style scoped>\n",
       "    .dataframe tbody tr th:only-of-type {\n",
       "        vertical-align: middle;\n",
       "    }\n",
       "\n",
       "    .dataframe tbody tr th {\n",
       "        vertical-align: top;\n",
       "    }\n",
       "\n",
       "    .dataframe thead th {\n",
       "        text-align: right;\n",
       "    }\n",
       "</style>\n",
       "<table border=\"1\" class=\"dataframe\">\n",
       "  <thead>\n",
       "    <tr style=\"text-align: right;\">\n",
       "      <th></th>\n",
       "      <th>0</th>\n",
       "      <th>1</th>\n",
       "      <th>2</th>\n",
       "      <th>3</th>\n",
       "      <th>4</th>\n",
       "      <th>5</th>\n",
       "      <th>6</th>\n",
       "      <th>7</th>\n",
       "      <th>8</th>\n",
       "      <th>9</th>\n",
       "      <th>...</th>\n",
       "      <th>256</th>\n",
       "      <th>257</th>\n",
       "      <th>258</th>\n",
       "      <th>259</th>\n",
       "      <th>260</th>\n",
       "      <th>261</th>\n",
       "      <th>262</th>\n",
       "      <th>263</th>\n",
       "      <th>264</th>\n",
       "      <th>265</th>\n",
       "    </tr>\n",
       "  </thead>\n",
       "  <tbody>\n",
       "    <tr>\n",
       "      <th>0</th>\n",
       "      <td>General Medicine</td>\n",
       "      <td>-999.0</td>\n",
       "      <td>True</td>\n",
       "      <td>35.0</td>\n",
       "      <td>Ghatkopar East</td>\n",
       "      <td>Mumbai</td>\n",
       "      <td>0</td>\n",
       "      <td>0</td>\n",
       "      <td>0</td>\n",
       "      <td>0</td>\n",
       "      <td>...</td>\n",
       "      <td>False</td>\n",
       "      <td>False</td>\n",
       "      <td>333.684211</td>\n",
       "      <td>50</td>\n",
       "      <td>800</td>\n",
       "      <td>308.292863</td>\n",
       "      <td>10</td>\n",
       "      <td>920</td>\n",
       "      <td>234.584964</td>\n",
       "      <td>350.000000</td>\n",
       "    </tr>\n",
       "    <tr>\n",
       "      <th>1</th>\n",
       "      <td>ENT Specialist</td>\n",
       "      <td>-999.0</td>\n",
       "      <td>True</td>\n",
       "      <td>31.0</td>\n",
       "      <td>West Marredpally</td>\n",
       "      <td>Hyderabad</td>\n",
       "      <td>0</td>\n",
       "      <td>0</td>\n",
       "      <td>0</td>\n",
       "      <td>0</td>\n",
       "      <td>...</td>\n",
       "      <td>False</td>\n",
       "      <td>False</td>\n",
       "      <td>361.111111</td>\n",
       "      <td>150</td>\n",
       "      <td>500</td>\n",
       "      <td>307.507886</td>\n",
       "      <td>20</td>\n",
       "      <td>800</td>\n",
       "      <td>152.340317</td>\n",
       "      <td>400.000000</td>\n",
       "    </tr>\n",
       "    <tr>\n",
       "      <th>2</th>\n",
       "      <td>Dermatologists</td>\n",
       "      <td>70.0</td>\n",
       "      <td>False</td>\n",
       "      <td>40.0</td>\n",
       "      <td>KK Nagar</td>\n",
       "      <td>Chennai</td>\n",
       "      <td>0</td>\n",
       "      <td>0</td>\n",
       "      <td>0</td>\n",
       "      <td>0</td>\n",
       "      <td>...</td>\n",
       "      <td>False</td>\n",
       "      <td>False</td>\n",
       "      <td>271.428571</td>\n",
       "      <td>100</td>\n",
       "      <td>500</td>\n",
       "      <td>283.602339</td>\n",
       "      <td>50</td>\n",
       "      <td>950</td>\n",
       "      <td>167.797081</td>\n",
       "      <td>322.897648</td>\n",
       "    </tr>\n",
       "    <tr>\n",
       "      <th>3</th>\n",
       "      <td>Ayurveda</td>\n",
       "      <td>-999.0</td>\n",
       "      <td>True</td>\n",
       "      <td>0.0</td>\n",
       "      <td>New Ashok Nagar</td>\n",
       "      <td>Delhi</td>\n",
       "      <td>0</td>\n",
       "      <td>0</td>\n",
       "      <td>0</td>\n",
       "      <td>1</td>\n",
       "      <td>...</td>\n",
       "      <td>False</td>\n",
       "      <td>False</td>\n",
       "      <td>233.333333</td>\n",
       "      <td>100</td>\n",
       "      <td>300</td>\n",
       "      <td>363.006757</td>\n",
       "      <td>50</td>\n",
       "      <td>900</td>\n",
       "      <td>212.523175</td>\n",
       "      <td>322.897648</td>\n",
       "    </tr>\n",
       "    <tr>\n",
       "      <th>4</th>\n",
       "      <td>Dentist</td>\n",
       "      <td>100.0</td>\n",
       "      <td>False</td>\n",
       "      <td>16.0</td>\n",
       "      <td>Kanakpura Road</td>\n",
       "      <td>Bangalore</td>\n",
       "      <td>0</td>\n",
       "      <td>0</td>\n",
       "      <td>0</td>\n",
       "      <td>0</td>\n",
       "      <td>...</td>\n",
       "      <td>False</td>\n",
       "      <td>False</td>\n",
       "      <td>345.000000</td>\n",
       "      <td>250</td>\n",
       "      <td>500</td>\n",
       "      <td>328.842607</td>\n",
       "      <td>30</td>\n",
       "      <td>900</td>\n",
       "      <td>159.136744</td>\n",
       "      <td>300.000000</td>\n",
       "    </tr>\n",
       "  </tbody>\n",
       "</table>\n",
       "<p>5 rows × 266 columns</p>\n",
       "</div>"
      ],
      "text/plain": [
       "                0      1      2     3                 4          5    6    \\\n",
       "0  General Medicine -999.0   True  35.0    Ghatkopar East     Mumbai    0   \n",
       "1    ENT Specialist -999.0   True  31.0  West Marredpally  Hyderabad    0   \n",
       "2    Dermatologists   70.0  False  40.0          KK Nagar    Chennai    0   \n",
       "3          Ayurveda -999.0   True   0.0   New Ashok Nagar      Delhi    0   \n",
       "4           Dentist  100.0  False  16.0    Kanakpura Road  Bangalore    0   \n",
       "\n",
       "   7    8    9    ...    256    257         258  259  260         261  262  \\\n",
       "0    0    0    0  ...  False  False  333.684211   50  800  308.292863   10   \n",
       "1    0    0    0  ...  False  False  361.111111  150  500  307.507886   20   \n",
       "2    0    0    0  ...  False  False  271.428571  100  500  283.602339   50   \n",
       "3    0    0    1  ...  False  False  233.333333  100  300  363.006757   50   \n",
       "4    0    0    0  ...  False  False  345.000000  250  500  328.842607   30   \n",
       "\n",
       "   263         264         265  \n",
       "0  920  234.584964  350.000000  \n",
       "1  800  152.340317  400.000000  \n",
       "2  950  167.797081  322.897648  \n",
       "3  900  212.523175  322.897648  \n",
       "4  900  159.136744  300.000000  \n",
       "\n",
       "[5 rows x 266 columns]"
      ]
     },
     "execution_count": 234,
     "metadata": {},
     "output_type": "execute_result"
    }
   ],
   "source": [
    "test.head()"
   ]
  },
  {
   "cell_type": "code",
   "execution_count": 235,
   "metadata": {},
   "outputs": [],
   "source": [
    "from sklearn.preprocessing import LabelEncoder\n",
    "cols=(0,2,4,5,256,257)\n",
    "for c in cols:\n",
    "    lbl=LabelEncoder()\n",
    "    lbl.fit(list(X[c].values))\n",
    "    X[c]=lbl.transform(list(X[c].values))\n",
    "    test[c]=lbl.transform(list(test[c].values))"
   ]
  },
  {
   "cell_type": "code",
   "execution_count": 236,
   "metadata": {},
   "outputs": [
    {
     "data": {
      "text/html": [
       "<div>\n",
       "<style scoped>\n",
       "    .dataframe tbody tr th:only-of-type {\n",
       "        vertical-align: middle;\n",
       "    }\n",
       "\n",
       "    .dataframe tbody tr th {\n",
       "        vertical-align: top;\n",
       "    }\n",
       "\n",
       "    .dataframe thead th {\n",
       "        text-align: right;\n",
       "    }\n",
       "</style>\n",
       "<table border=\"1\" class=\"dataframe\">\n",
       "  <thead>\n",
       "    <tr style=\"text-align: right;\">\n",
       "      <th></th>\n",
       "      <th>0</th>\n",
       "      <th>1</th>\n",
       "      <th>2</th>\n",
       "      <th>3</th>\n",
       "      <th>4</th>\n",
       "      <th>5</th>\n",
       "      <th>6</th>\n",
       "      <th>7</th>\n",
       "      <th>8</th>\n",
       "      <th>9</th>\n",
       "      <th>...</th>\n",
       "      <th>249</th>\n",
       "      <th>250</th>\n",
       "      <th>251</th>\n",
       "      <th>252</th>\n",
       "      <th>253</th>\n",
       "      <th>254</th>\n",
       "      <th>255</th>\n",
       "      <th>256</th>\n",
       "      <th>257</th>\n",
       "      <th>258</th>\n",
       "    </tr>\n",
       "  </thead>\n",
       "  <tbody>\n",
       "    <tr>\n",
       "      <th>0</th>\n",
       "      <td>Homeopath</td>\n",
       "      <td>100.0</td>\n",
       "      <td>False</td>\n",
       "      <td>24.0</td>\n",
       "      <td>Ernakulam</td>\n",
       "      <td>0</td>\n",
       "      <td>0</td>\n",
       "      <td>0</td>\n",
       "      <td>0</td>\n",
       "      <td>0</td>\n",
       "      <td>...</td>\n",
       "      <td>0</td>\n",
       "      <td>0</td>\n",
       "      <td>0</td>\n",
       "      <td>0</td>\n",
       "      <td>0</td>\n",
       "      <td>0</td>\n",
       "      <td>188.431373</td>\n",
       "      <td>10</td>\n",
       "      <td>600</td>\n",
       "      <td>111.474080</td>\n",
       "    </tr>\n",
       "    <tr>\n",
       "      <th>1</th>\n",
       "      <td>Ayurveda</td>\n",
       "      <td>98.0</td>\n",
       "      <td>False</td>\n",
       "      <td>12.0</td>\n",
       "      <td>Bangalore</td>\n",
       "      <td>0</td>\n",
       "      <td>0</td>\n",
       "      <td>1</td>\n",
       "      <td>1</td>\n",
       "      <td>0</td>\n",
       "      <td>...</td>\n",
       "      <td>0</td>\n",
       "      <td>0</td>\n",
       "      <td>1</td>\n",
       "      <td>0</td>\n",
       "      <td>0</td>\n",
       "      <td>0</td>\n",
       "      <td>328.842607</td>\n",
       "      <td>30</td>\n",
       "      <td>900</td>\n",
       "      <td>159.136744</td>\n",
       "    </tr>\n",
       "    <tr>\n",
       "      <th>2</th>\n",
       "      <td>ENT Specialist</td>\n",
       "      <td>-999.0</td>\n",
       "      <td>True</td>\n",
       "      <td>9.0</td>\n",
       "      <td>Bangalore</td>\n",
       "      <td>0</td>\n",
       "      <td>0</td>\n",
       "      <td>0</td>\n",
       "      <td>0</td>\n",
       "      <td>0</td>\n",
       "      <td>...</td>\n",
       "      <td>0</td>\n",
       "      <td>0</td>\n",
       "      <td>0</td>\n",
       "      <td>0</td>\n",
       "      <td>0</td>\n",
       "      <td>0</td>\n",
       "      <td>328.842607</td>\n",
       "      <td>30</td>\n",
       "      <td>900</td>\n",
       "      <td>159.136744</td>\n",
       "    </tr>\n",
       "    <tr>\n",
       "      <th>3</th>\n",
       "      <td>Ayurveda</td>\n",
       "      <td>-999.0</td>\n",
       "      <td>True</td>\n",
       "      <td>12.0</td>\n",
       "      <td>Bangalore</td>\n",
       "      <td>0</td>\n",
       "      <td>0</td>\n",
       "      <td>0</td>\n",
       "      <td>1</td>\n",
       "      <td>0</td>\n",
       "      <td>...</td>\n",
       "      <td>0</td>\n",
       "      <td>0</td>\n",
       "      <td>0</td>\n",
       "      <td>0</td>\n",
       "      <td>0</td>\n",
       "      <td>0</td>\n",
       "      <td>328.842607</td>\n",
       "      <td>30</td>\n",
       "      <td>900</td>\n",
       "      <td>159.136744</td>\n",
       "    </tr>\n",
       "    <tr>\n",
       "      <th>4</th>\n",
       "      <td>Ayurveda</td>\n",
       "      <td>100.0</td>\n",
       "      <td>False</td>\n",
       "      <td>20.0</td>\n",
       "      <td>Chennai</td>\n",
       "      <td>0</td>\n",
       "      <td>0</td>\n",
       "      <td>0</td>\n",
       "      <td>1</td>\n",
       "      <td>0</td>\n",
       "      <td>...</td>\n",
       "      <td>0</td>\n",
       "      <td>0</td>\n",
       "      <td>0</td>\n",
       "      <td>0</td>\n",
       "      <td>0</td>\n",
       "      <td>0</td>\n",
       "      <td>283.602339</td>\n",
       "      <td>50</td>\n",
       "      <td>950</td>\n",
       "      <td>167.797081</td>\n",
       "    </tr>\n",
       "  </tbody>\n",
       "</table>\n",
       "<p>5 rows × 259 columns</p>\n",
       "</div>"
      ],
      "text/plain": [
       "              0      1      2     3          4    5    6    7    8    9    \\\n",
       "0       Homeopath  100.0  False  24.0  Ernakulam    0    0    0    0    0   \n",
       "1        Ayurveda   98.0  False  12.0  Bangalore    0    0    1    1    0   \n",
       "2  ENT Specialist -999.0   True   9.0  Bangalore    0    0    0    0    0   \n",
       "3        Ayurveda -999.0   True  12.0  Bangalore    0    0    0    1    0   \n",
       "4        Ayurveda  100.0  False  20.0    Chennai    0    0    0    1    0   \n",
       "\n",
       "   ...  249  250  251  252  253  254         255  256  257         258  \n",
       "0  ...    0    0    0    0    0    0  188.431373   10  600  111.474080  \n",
       "1  ...    0    0    1    0    0    0  328.842607   30  900  159.136744  \n",
       "2  ...    0    0    0    0    0    0  328.842607   30  900  159.136744  \n",
       "3  ...    0    0    0    0    0    0  328.842607   30  900  159.136744  \n",
       "4  ...    0    0    0    0    0    0  283.602339   50  950  167.797081  \n",
       "\n",
       "[5 rows x 259 columns]"
      ]
     },
     "execution_count": 236,
     "metadata": {},
     "output_type": "execute_result"
    }
   ],
   "source": [
    "X1.head()"
   ]
  },
  {
   "cell_type": "code",
   "execution_count": 237,
   "metadata": {},
   "outputs": [],
   "source": [
    "from sklearn.preprocessing import LabelEncoder\n",
    "cols=(0,2,4)\n",
    "for c in cols:\n",
    "    lbl=LabelEncoder()\n",
    "    lbl.fit(list(X1[c].values))\n",
    "    X1[c]=lbl.transform(list(X1[c].values))\n",
    "    test2[c]=lbl.transform(list(test2[c].values))"
   ]
  },
  {
   "cell_type": "code",
   "execution_count": 238,
   "metadata": {},
   "outputs": [],
   "source": [
    "from sklearn.ensemble import AdaBoostRegressor"
   ]
  },
  {
   "cell_type": "code",
   "execution_count": 239,
   "metadata": {},
   "outputs": [],
   "source": [
    "ada=AdaBoostRegressor(n_estimators=800)"
   ]
  },
  {
   "cell_type": "code",
   "execution_count": 240,
   "metadata": {},
   "outputs": [
    {
     "data": {
      "text/plain": [
       "AdaBoostRegressor(n_estimators=800)"
      ]
     },
     "execution_count": 240,
     "metadata": {},
     "output_type": "execute_result"
    }
   ],
   "source": [
    "ada.fit(X,y)"
   ]
  },
  {
   "cell_type": "code",
   "execution_count": 241,
   "metadata": {},
   "outputs": [],
   "source": [
    "pred_ada=ada.predict(test)"
   ]
  },
  {
   "cell_type": "code",
   "execution_count": 242,
   "metadata": {},
   "outputs": [],
   "source": [
    "from sklearn.ensemble import GradientBoostingRegressor"
   ]
  },
  {
   "cell_type": "code",
   "execution_count": 243,
   "metadata": {},
   "outputs": [],
   "source": [
    "gb=GradientBoostingRegressor(n_estimators=500)"
   ]
  },
  {
   "cell_type": "code",
   "execution_count": 244,
   "metadata": {},
   "outputs": [
    {
     "data": {
      "text/plain": [
       "GradientBoostingRegressor(n_estimators=500)"
      ]
     },
     "execution_count": 244,
     "metadata": {},
     "output_type": "execute_result"
    }
   ],
   "source": [
    "gb.fit(X,y)"
   ]
  },
  {
   "cell_type": "code",
   "execution_count": 245,
   "metadata": {},
   "outputs": [],
   "source": [
    "pred_gb=gb.predict(test)"
   ]
  },
  {
   "cell_type": "code",
   "execution_count": 246,
   "metadata": {},
   "outputs": [],
   "source": [
    "from sklearn.ensemble import BaggingRegressor"
   ]
  },
  {
   "cell_type": "code",
   "execution_count": 247,
   "metadata": {},
   "outputs": [],
   "source": [
    "br=BaggingRegressor(n_estimators=700)"
   ]
  },
  {
   "cell_type": "code",
   "execution_count": 248,
   "metadata": {},
   "outputs": [
    {
     "data": {
      "text/plain": [
       "BaggingRegressor(n_estimators=700)"
      ]
     },
     "execution_count": 248,
     "metadata": {},
     "output_type": "execute_result"
    }
   ],
   "source": [
    "br.fit(X,y)"
   ]
  },
  {
   "cell_type": "code",
   "execution_count": 249,
   "metadata": {},
   "outputs": [],
   "source": [
    "pred_br=br.predict(test)"
   ]
  },
  {
   "cell_type": "code",
   "execution_count": 250,
   "metadata": {},
   "outputs": [],
   "source": [
    "from sklearn.ensemble import ExtraTreesRegressor"
   ]
  },
  {
   "cell_type": "code",
   "execution_count": 251,
   "metadata": {},
   "outputs": [],
   "source": [
    "etr=ExtraTreesRegressor(n_estimators=500)"
   ]
  },
  {
   "cell_type": "code",
   "execution_count": 252,
   "metadata": {},
   "outputs": [
    {
     "data": {
      "text/plain": [
       "ExtraTreesRegressor(n_estimators=500)"
      ]
     },
     "execution_count": 252,
     "metadata": {},
     "output_type": "execute_result"
    }
   ],
   "source": [
    "etr.fit(X,y)"
   ]
  },
  {
   "cell_type": "code",
   "execution_count": 253,
   "metadata": {},
   "outputs": [],
   "source": [
    "pred_etr=etr.predict(test)"
   ]
  },
  {
   "cell_type": "code",
   "execution_count": 254,
   "metadata": {},
   "outputs": [],
   "source": [
    "from sklearn.neural_network import MLPRegressor"
   ]
  },
  {
   "cell_type": "code",
   "execution_count": 255,
   "metadata": {},
   "outputs": [],
   "source": [
    "mlp=MLPRegressor()"
   ]
  },
  {
   "cell_type": "code",
   "execution_count": 256,
   "metadata": {},
   "outputs": [
    {
     "data": {
      "text/plain": [
       "MLPRegressor()"
      ]
     },
     "execution_count": 256,
     "metadata": {},
     "output_type": "execute_result"
    }
   ],
   "source": [
    "mlp.fit(X,y)"
   ]
  },
  {
   "cell_type": "code",
   "execution_count": 257,
   "metadata": {},
   "outputs": [],
   "source": [
    "pred_mlp=mlp.predict(test)"
   ]
  },
  {
   "cell_type": "code",
   "execution_count": 258,
   "metadata": {},
   "outputs": [],
   "source": [
    "from sklearn.neighbors import KNeighborsRegressor"
   ]
  },
  {
   "cell_type": "code",
   "execution_count": 259,
   "metadata": {},
   "outputs": [],
   "source": [
    "knn=KNeighborsRegressor(n_neighbors=500)"
   ]
  },
  {
   "cell_type": "code",
   "execution_count": 260,
   "metadata": {},
   "outputs": [
    {
     "data": {
      "text/plain": [
       "KNeighborsRegressor(n_neighbors=500)"
      ]
     },
     "execution_count": 260,
     "metadata": {},
     "output_type": "execute_result"
    }
   ],
   "source": [
    "knn.fit(X,y)"
   ]
  },
  {
   "cell_type": "code",
   "execution_count": 261,
   "metadata": {},
   "outputs": [],
   "source": [
    "pred_knn=knn.predict(test)"
   ]
  },
  {
   "cell_type": "code",
   "execution_count": 262,
   "metadata": {},
   "outputs": [],
   "source": [
    "from sklearn.tree import DecisionTreeRegressor"
   ]
  },
  {
   "cell_type": "code",
   "execution_count": 263,
   "metadata": {},
   "outputs": [],
   "source": [
    "dtr=DecisionTreeRegressor()"
   ]
  },
  {
   "cell_type": "code",
   "execution_count": 264,
   "metadata": {},
   "outputs": [
    {
     "data": {
      "text/plain": [
       "DecisionTreeRegressor()"
      ]
     },
     "execution_count": 264,
     "metadata": {},
     "output_type": "execute_result"
    }
   ],
   "source": [
    "dtr.fit(X,y)"
   ]
  },
  {
   "cell_type": "code",
   "execution_count": 265,
   "metadata": {},
   "outputs": [],
   "source": [
    "pred_dtr=dtr.predict(test)"
   ]
  },
  {
   "cell_type": "code",
   "execution_count": 266,
   "metadata": {},
   "outputs": [],
   "source": [
    "from sklearn.ensemble import RandomForestRegressor"
   ]
  },
  {
   "cell_type": "code",
   "execution_count": 267,
   "metadata": {},
   "outputs": [],
   "source": [
    "rfc=RandomForestRegressor(n_estimators=500)"
   ]
  },
  {
   "cell_type": "code",
   "execution_count": 269,
   "metadata": {},
   "outputs": [
    {
     "data": {
      "text/plain": [
       "RandomForestRegressor(n_estimators=500)"
      ]
     },
     "execution_count": 269,
     "metadata": {},
     "output_type": "execute_result"
    }
   ],
   "source": [
    "rfc.fit(X,y)"
   ]
  },
  {
   "cell_type": "code",
   "execution_count": 270,
   "metadata": {},
   "outputs": [],
   "source": [
    "pred_rfc=rfc.predict(test)"
   ]
  },
  {
   "cell_type": "code",
   "execution_count": 272,
   "metadata": {},
   "outputs": [],
   "source": [
    "rfc1=RandomForestRegressor(n_estimators=100)"
   ]
  },
  {
   "cell_type": "code",
   "execution_count": 273,
   "metadata": {},
   "outputs": [
    {
     "data": {
      "text/plain": [
       "RandomForestRegressor()"
      ]
     },
     "execution_count": 273,
     "metadata": {},
     "output_type": "execute_result"
    }
   ],
   "source": [
    "rfc1.fit(X1,y1)"
   ]
  },
  {
   "cell_type": "code",
   "execution_count": 274,
   "metadata": {},
   "outputs": [],
   "source": [
    "pred1=rfc1.predict(test2)"
   ]
  },
  {
   "cell_type": "code",
   "execution_count": 275,
   "metadata": {},
   "outputs": [
    {
     "data": {
      "text/plain": [
       "(1904,)"
      ]
     },
     "execution_count": 275,
     "metadata": {},
     "output_type": "execute_result"
    }
   ],
   "source": [
    "pred_rfc.shape"
   ]
  },
  {
   "cell_type": "code",
   "execution_count": 276,
   "metadata": {},
   "outputs": [
    {
     "data": {
      "text/plain": [
       "(83,)"
      ]
     },
     "execution_count": 276,
     "metadata": {},
     "output_type": "execute_result"
    }
   ],
   "source": [
    "pred1.shape"
   ]
  },
  {
   "cell_type": "code",
   "execution_count": 290,
   "metadata": {},
   "outputs": [
    {
     "data": {
      "text/html": [
       "<div>\n",
       "<style scoped>\n",
       "    .dataframe tbody tr th:only-of-type {\n",
       "        vertical-align: middle;\n",
       "    }\n",
       "\n",
       "    .dataframe tbody tr th {\n",
       "        vertical-align: top;\n",
       "    }\n",
       "\n",
       "    .dataframe thead th {\n",
       "        text-align: right;\n",
       "    }\n",
       "</style>\n",
       "<table border=\"1\" class=\"dataframe\">\n",
       "  <thead>\n",
       "    <tr style=\"text-align: right;\">\n",
       "      <th></th>\n",
       "      <th>0</th>\n",
       "      <th>1</th>\n",
       "      <th>2</th>\n",
       "      <th>3</th>\n",
       "      <th>4</th>\n",
       "      <th>5</th>\n",
       "      <th>6</th>\n",
       "      <th>7</th>\n",
       "      <th>8</th>\n",
       "      <th>9</th>\n",
       "      <th>...</th>\n",
       "      <th>256</th>\n",
       "      <th>257</th>\n",
       "      <th>258</th>\n",
       "      <th>259</th>\n",
       "      <th>260</th>\n",
       "      <th>261</th>\n",
       "      <th>262</th>\n",
       "      <th>263</th>\n",
       "      <th>264</th>\n",
       "      <th>265</th>\n",
       "    </tr>\n",
       "  </thead>\n",
       "  <tbody>\n",
       "    <tr>\n",
       "      <th>0</th>\n",
       "      <td>5</td>\n",
       "      <td>100.0</td>\n",
       "      <td>0</td>\n",
       "      <td>24.0</td>\n",
       "      <td>296</td>\n",
       "      <td>4</td>\n",
       "      <td>0</td>\n",
       "      <td>0</td>\n",
       "      <td>0</td>\n",
       "      <td>0</td>\n",
       "      <td>...</td>\n",
       "      <td>0</td>\n",
       "      <td>0</td>\n",
       "      <td>186.153846</td>\n",
       "      <td>70</td>\n",
       "      <td>300</td>\n",
       "      <td>188.431373</td>\n",
       "      <td>10</td>\n",
       "      <td>600</td>\n",
       "      <td>111.474080</td>\n",
       "      <td>125.000000</td>\n",
       "    </tr>\n",
       "    <tr>\n",
       "      <th>1</th>\n",
       "      <td>0</td>\n",
       "      <td>98.0</td>\n",
       "      <td>0</td>\n",
       "      <td>12.0</td>\n",
       "      <td>856</td>\n",
       "      <td>0</td>\n",
       "      <td>0</td>\n",
       "      <td>0</td>\n",
       "      <td>1</td>\n",
       "      <td>1</td>\n",
       "      <td>...</td>\n",
       "      <td>0</td>\n",
       "      <td>0</td>\n",
       "      <td>398.936170</td>\n",
       "      <td>100</td>\n",
       "      <td>600</td>\n",
       "      <td>328.842607</td>\n",
       "      <td>30</td>\n",
       "      <td>900</td>\n",
       "      <td>159.136744</td>\n",
       "      <td>322.727273</td>\n",
       "    </tr>\n",
       "    <tr>\n",
       "      <th>2</th>\n",
       "      <td>3</td>\n",
       "      <td>-999.0</td>\n",
       "      <td>1</td>\n",
       "      <td>9.0</td>\n",
       "      <td>452</td>\n",
       "      <td>0</td>\n",
       "      <td>0</td>\n",
       "      <td>0</td>\n",
       "      <td>0</td>\n",
       "      <td>0</td>\n",
       "      <td>...</td>\n",
       "      <td>0</td>\n",
       "      <td>0</td>\n",
       "      <td>268.181818</td>\n",
       "      <td>100</td>\n",
       "      <td>500</td>\n",
       "      <td>328.842607</td>\n",
       "      <td>30</td>\n",
       "      <td>900</td>\n",
       "      <td>159.136744</td>\n",
       "      <td>300.000000</td>\n",
       "    </tr>\n",
       "    <tr>\n",
       "      <th>3</th>\n",
       "      <td>0</td>\n",
       "      <td>-999.0</td>\n",
       "      <td>1</td>\n",
       "      <td>12.0</td>\n",
       "      <td>68</td>\n",
       "      <td>0</td>\n",
       "      <td>0</td>\n",
       "      <td>0</td>\n",
       "      <td>0</td>\n",
       "      <td>1</td>\n",
       "      <td>...</td>\n",
       "      <td>0</td>\n",
       "      <td>0</td>\n",
       "      <td>410.256410</td>\n",
       "      <td>100</td>\n",
       "      <td>800</td>\n",
       "      <td>328.842607</td>\n",
       "      <td>30</td>\n",
       "      <td>900</td>\n",
       "      <td>159.136744</td>\n",
       "      <td>208.333333</td>\n",
       "    </tr>\n",
       "    <tr>\n",
       "      <th>4</th>\n",
       "      <td>0</td>\n",
       "      <td>100.0</td>\n",
       "      <td>0</td>\n",
       "      <td>20.0</td>\n",
       "      <td>335</td>\n",
       "      <td>1</td>\n",
       "      <td>0</td>\n",
       "      <td>0</td>\n",
       "      <td>0</td>\n",
       "      <td>1</td>\n",
       "      <td>...</td>\n",
       "      <td>0</td>\n",
       "      <td>0</td>\n",
       "      <td>166.666667</td>\n",
       "      <td>100</td>\n",
       "      <td>250</td>\n",
       "      <td>283.602339</td>\n",
       "      <td>50</td>\n",
       "      <td>950</td>\n",
       "      <td>167.797081</td>\n",
       "      <td>250.000000</td>\n",
       "    </tr>\n",
       "  </tbody>\n",
       "</table>\n",
       "<p>5 rows × 266 columns</p>\n",
       "</div>"
      ],
      "text/plain": [
       "   0      1    2     3    4    5    6    7    8    9    ...  256  257  \\\n",
       "0    5  100.0    0  24.0  296    4    0    0    0    0  ...    0    0   \n",
       "1    0   98.0    0  12.0  856    0    0    0    1    1  ...    0    0   \n",
       "2    3 -999.0    1   9.0  452    0    0    0    0    0  ...    0    0   \n",
       "3    0 -999.0    1  12.0   68    0    0    0    0    1  ...    0    0   \n",
       "4    0  100.0    0  20.0  335    1    0    0    0    1  ...    0    0   \n",
       "\n",
       "          258  259  260         261  262  263         264         265  \n",
       "0  186.153846   70  300  188.431373   10  600  111.474080  125.000000  \n",
       "1  398.936170  100  600  328.842607   30  900  159.136744  322.727273  \n",
       "2  268.181818  100  500  328.842607   30  900  159.136744  300.000000  \n",
       "3  410.256410  100  800  328.842607   30  900  159.136744  208.333333  \n",
       "4  166.666667  100  250  283.602339   50  950  167.797081  250.000000  \n",
       "\n",
       "[5 rows x 266 columns]"
      ]
     },
     "execution_count": 290,
     "metadata": {},
     "output_type": "execute_result"
    }
   ],
   "source": [
    "X.head()"
   ]
  },
  {
   "cell_type": "code",
   "execution_count": 284,
   "metadata": {},
   "outputs": [
    {
     "name": "stdout",
     "output_type": "stream",
     "text": [
      "Feature ranking:\n",
      "1. feature 265 (0.615792)\n",
      "2. feature 3 (0.059145)\n",
      "3. feature 258 (0.021134)\n",
      "4. feature 4 (0.020226)\n",
      "5. feature 260 (0.019046)\n",
      "6. feature 1 (0.013082)\n",
      "7. feature 259 (0.009934)\n",
      "8. feature 264 (0.007829)\n",
      "9. feature 0 (0.006891)\n",
      "10. feature 41 (0.005691)\n",
      "11. feature 39 (0.005613)\n",
      "12. feature 245 (0.005295)\n",
      "13. feature 5 (0.004926)\n",
      "14. feature 261 (0.004536)\n",
      "15. feature 262 (0.004101)\n",
      "16. feature 263 (0.003991)\n",
      "17. feature 34 (0.003968)\n",
      "18. feature 190 (0.003915)\n",
      "19. feature 27 (0.003790)\n",
      "20. feature 53 (0.003275)\n",
      "21. feature 21 (0.003272)\n",
      "22. feature 38 (0.003183)\n",
      "23. feature 23 (0.003124)\n",
      "24. feature 11 (0.003021)\n",
      "25. feature 134 (0.002952)\n",
      "26. feature 32 (0.002910)\n",
      "27. feature 7 (0.002892)\n",
      "28. feature 251 (0.002740)\n",
      "29. feature 25 (0.002545)\n",
      "30. feature 29 (0.002490)\n",
      "31. feature 149 (0.002360)\n",
      "32. feature 103 (0.002285)\n",
      "33. feature 42 (0.002259)\n",
      "34. feature 235 (0.002144)\n",
      "35. feature 2 (0.002138)\n",
      "36. feature 43 (0.002072)\n",
      "37. feature 17 (0.001995)\n",
      "38. feature 77 (0.001960)\n",
      "39. feature 165 (0.001887)\n",
      "40. feature 35 (0.001760)\n",
      "41. feature 85 (0.001726)\n",
      "42. feature 8 (0.001680)\n",
      "43. feature 88 (0.001677)\n",
      "44. feature 28 (0.001643)\n",
      "45. feature 99 (0.001631)\n",
      "46. feature 76 (0.001630)\n",
      "47. feature 229 (0.001605)\n",
      "48. feature 47 (0.001603)\n",
      "49. feature 181 (0.001555)\n",
      "50. feature 242 (0.001550)\n",
      "51. feature 128 (0.001535)\n",
      "52. feature 231 (0.001489)\n",
      "53. feature 55 (0.001477)\n",
      "54. feature 163 (0.001430)\n",
      "55. feature 182 (0.001428)\n",
      "56. feature 125 (0.001421)\n",
      "57. feature 22 (0.001409)\n",
      "58. feature 12 (0.001394)\n",
      "59. feature 9 (0.001375)\n",
      "60. feature 36 (0.001366)\n",
      "61. feature 151 (0.001255)\n",
      "62. feature 95 (0.001248)\n",
      "63. feature 40 (0.001232)\n",
      "64. feature 90 (0.001222)\n",
      "65. feature 138 (0.001209)\n",
      "66. feature 57 (0.001192)\n",
      "67. feature 63 (0.001191)\n",
      "68. feature 54 (0.001164)\n",
      "69. feature 130 (0.001138)\n",
      "70. feature 89 (0.001131)\n",
      "71. feature 176 (0.001099)\n",
      "72. feature 139 (0.001077)\n",
      "73. feature 174 (0.001073)\n",
      "74. feature 100 (0.001064)\n",
      "75. feature 83 (0.001059)\n",
      "76. feature 64 (0.001051)\n",
      "77. feature 241 (0.001048)\n",
      "78. feature 56 (0.001044)\n",
      "79. feature 227 (0.001029)\n",
      "80. feature 114 (0.001020)\n",
      "81. feature 91 (0.000996)\n",
      "82. feature 124 (0.000967)\n",
      "83. feature 154 (0.000953)\n",
      "84. feature 87 (0.000946)\n",
      "85. feature 142 (0.000938)\n",
      "86. feature 184 (0.000935)\n",
      "87. feature 98 (0.000933)\n",
      "88. feature 136 (0.000914)\n",
      "89. feature 223 (0.000896)\n",
      "90. feature 15 (0.000894)\n",
      "91. feature 31 (0.000868)\n",
      "92. feature 24 (0.000858)\n",
      "93. feature 104 (0.000855)\n",
      "94. feature 105 (0.000853)\n",
      "95. feature 180 (0.000853)\n",
      "96. feature 58 (0.000852)\n",
      "97. feature 92 (0.000841)\n",
      "98. feature 196 (0.000827)\n",
      "99. feature 129 (0.000820)\n",
      "100. feature 195 (0.000814)\n",
      "101. feature 67 (0.000810)\n",
      "102. feature 78 (0.000807)\n",
      "103. feature 18 (0.000807)\n",
      "104. feature 10 (0.000799)\n",
      "105. feature 221 (0.000794)\n",
      "106. feature 197 (0.000788)\n",
      "107. feature 97 (0.000786)\n",
      "108. feature 210 (0.000783)\n",
      "109. feature 247 (0.000770)\n",
      "110. feature 188 (0.000767)\n",
      "111. feature 49 (0.000762)\n",
      "112. feature 156 (0.000759)\n",
      "113. feature 16 (0.000730)\n",
      "114. feature 6 (0.000706)\n",
      "115. feature 108 (0.000694)\n",
      "116. feature 110 (0.000681)\n",
      "117. feature 82 (0.000669)\n",
      "118. feature 249 (0.000662)\n",
      "119. feature 160 (0.000657)\n",
      "120. feature 207 (0.000650)\n",
      "121. feature 44 (0.000639)\n",
      "122. feature 172 (0.000638)\n",
      "123. feature 169 (0.000633)\n",
      "124. feature 75 (0.000627)\n",
      "125. feature 152 (0.000611)\n",
      "126. feature 118 (0.000608)\n",
      "127. feature 45 (0.000607)\n",
      "128. feature 205 (0.000603)\n",
      "129. feature 192 (0.000578)\n",
      "130. feature 61 (0.000570)\n",
      "131. feature 187 (0.000568)\n",
      "132. feature 237 (0.000564)\n",
      "133. feature 234 (0.000545)\n",
      "134. feature 193 (0.000544)\n",
      "135. feature 191 (0.000539)\n",
      "136. feature 240 (0.000531)\n",
      "137. feature 81 (0.000516)\n",
      "138. feature 14 (0.000515)\n",
      "139. feature 51 (0.000514)\n",
      "140. feature 135 (0.000513)\n",
      "141. feature 161 (0.000512)\n",
      "142. feature 164 (0.000508)\n",
      "143. feature 127 (0.000500)\n",
      "144. feature 30 (0.000498)\n",
      "145. feature 13 (0.000496)\n",
      "146. feature 102 (0.000482)\n",
      "147. feature 117 (0.000467)\n",
      "148. feature 59 (0.000465)\n",
      "149. feature 226 (0.000460)\n",
      "150. feature 232 (0.000452)\n",
      "151. feature 186 (0.000447)\n",
      "152. feature 106 (0.000429)\n",
      "153. feature 159 (0.000427)\n",
      "154. feature 33 (0.000424)\n",
      "155. feature 132 (0.000415)\n",
      "156. feature 133 (0.000413)\n",
      "157. feature 203 (0.000411)\n",
      "158. feature 60 (0.000411)\n",
      "159. feature 143 (0.000408)\n",
      "160. feature 141 (0.000399)\n",
      "161. feature 62 (0.000397)\n",
      "162. feature 46 (0.000394)\n",
      "163. feature 19 (0.000393)\n",
      "164. feature 224 (0.000383)\n",
      "165. feature 121 (0.000382)\n",
      "166. feature 48 (0.000374)\n",
      "167. feature 146 (0.000372)\n",
      "168. feature 206 (0.000371)\n",
      "169. feature 120 (0.000364)\n",
      "170. feature 166 (0.000362)\n",
      "171. feature 72 (0.000360)\n",
      "172. feature 194 (0.000356)\n",
      "173. feature 150 (0.000355)\n",
      "174. feature 243 (0.000349)\n",
      "175. feature 255 (0.000345)\n",
      "176. feature 94 (0.000343)\n",
      "177. feature 123 (0.000336)\n",
      "178. feature 73 (0.000336)\n",
      "179. feature 86 (0.000335)\n",
      "180. feature 148 (0.000328)\n",
      "181. feature 93 (0.000325)\n",
      "182. feature 111 (0.000320)\n",
      "183. feature 236 (0.000312)\n",
      "184. feature 208 (0.000307)\n",
      "185. feature 238 (0.000305)\n",
      "186. feature 26 (0.000305)\n",
      "187. feature 122 (0.000300)\n",
      "188. feature 248 (0.000298)\n",
      "189. feature 96 (0.000298)\n",
      "190. feature 175 (0.000294)\n",
      "191. feature 147 (0.000293)\n",
      "192. feature 84 (0.000293)\n",
      "193. feature 80 (0.000292)\n",
      "194. feature 199 (0.000266)\n",
      "195. feature 50 (0.000254)\n",
      "196. feature 37 (0.000250)\n",
      "197. feature 198 (0.000245)\n",
      "198. feature 214 (0.000239)\n",
      "199. feature 115 (0.000232)\n",
      "200. feature 65 (0.000225)\n",
      "201. feature 254 (0.000211)\n",
      "202. feature 144 (0.000210)\n",
      "203. feature 178 (0.000208)\n",
      "204. feature 79 (0.000205)\n",
      "205. feature 113 (0.000202)\n",
      "206. feature 131 (0.000200)\n",
      "207. feature 200 (0.000200)\n",
      "208. feature 171 (0.000193)\n",
      "209. feature 218 (0.000191)\n",
      "210. feature 140 (0.000187)\n",
      "211. feature 177 (0.000186)\n",
      "212. feature 66 (0.000180)\n",
      "213. feature 170 (0.000178)\n",
      "214. feature 107 (0.000178)\n",
      "215. feature 183 (0.000175)\n",
      "216. feature 209 (0.000175)\n",
      "217. feature 162 (0.000173)\n",
      "218. feature 202 (0.000173)\n",
      "219. feature 137 (0.000170)\n",
      "220. feature 250 (0.000169)\n",
      "221. feature 74 (0.000169)\n",
      "222. feature 244 (0.000168)\n",
      "223. feature 109 (0.000168)\n",
      "224. feature 158 (0.000168)\n",
      "225. feature 211 (0.000168)\n",
      "226. feature 225 (0.000162)\n",
      "227. feature 155 (0.000158)\n",
      "228. feature 239 (0.000153)\n",
      "229. feature 185 (0.000147)\n",
      "230. feature 71 (0.000146)\n",
      "231. feature 20 (0.000144)\n",
      "232. feature 173 (0.000143)\n",
      "233. feature 126 (0.000141)\n",
      "234. feature 69 (0.000139)\n",
      "235. feature 246 (0.000138)\n",
      "236. feature 217 (0.000138)\n",
      "237. feature 157 (0.000137)\n",
      "238. feature 216 (0.000136)\n",
      "239. feature 201 (0.000131)\n",
      "240. feature 68 (0.000129)\n",
      "241. feature 168 (0.000127)\n",
      "242. feature 52 (0.000120)\n",
      "243. feature 220 (0.000113)\n",
      "244. feature 116 (0.000112)\n",
      "245. feature 253 (0.000110)\n",
      "246. feature 189 (0.000109)\n",
      "247. feature 222 (0.000103)\n",
      "248. feature 252 (0.000097)\n",
      "249. feature 233 (0.000092)\n",
      "250. feature 167 (0.000086)\n",
      "251. feature 70 (0.000085)\n",
      "252. feature 219 (0.000084)\n",
      "253. feature 213 (0.000071)\n",
      "254. feature 145 (0.000070)\n",
      "255. feature 228 (0.000068)\n",
      "256. feature 212 (0.000068)\n",
      "257. feature 101 (0.000066)\n",
      "258. feature 230 (0.000060)\n",
      "259. feature 112 (0.000059)\n",
      "260. feature 119 (0.000034)\n",
      "261. feature 153 (0.000033)\n",
      "262. feature 215 (0.000032)\n",
      "263. feature 179 (0.000022)\n",
      "264. feature 204 (0.000020)\n",
      "265. feature 257 (0.000001)\n",
      "266. feature 256 (0.000001)\n"
     ]
    },
    {
     "data": {
      "image/png": "[encoded data removed]",
      "text/plain": [
       "<Figure size 432x288 with 1 Axes>"
      ]
     },
     "metadata": {
      "needs_background": "light"
     },
     "output_type": "display_data"
    }
   ],
   "source": [
    "importances = rfc.feature_importances_\n",
    "std = np.std([tree.feature_importances_ for tree in rfc.estimators_],\n",
    "             axis=0)\n",
    "indices = np.argsort(importances)[::-1]\n",
    "\n",
    "# Print the feature ranking\n",
    "print(\"Feature ranking:\")\n",
    "\n",
    "for f in range(X.shape[1]):\n",
    "    print(\"%d. feature %d (%f)\" % (f + 1, indices[f], importances[indices[f]]))\n",
    "\n",
    "# Plot the feature importances of the forest\n",
    "plt.figure()\n",
    "plt.title(\"Feature importances\")\n",
    "plt.bar(range(X.shape[1]), importances[indices],\n",
    "       color=\"r\", yerr=std[indices], align=\"center\")\n",
    "plt.xticks(range(X.shape[1]), indices)\n",
    "plt.xlim([-1, X.shape[1]])\n",
    "plt.show()"
   ]
  },
  {
   "cell_type": "code",
   "execution_count": 286,
   "metadata": {},
   "outputs": [],
   "source": [
    "from sklearn.ensemble import RandomForestRegressor,GradientBoostingRegressor,ExtraTreesRegressor, AdaBoostRegressor\n",
    "from sklearn.tree import DecisionTreeRegressor\n",
    "from sklearn.neighbors import KNeighborsRegressor"
   ]
  },
  {
   "cell_type": "code",
   "execution_count": 287,
   "metadata": {},
   "outputs": [],
   "source": [
    "models=[[KNeighborsRegressor (n_neighbors=300), GradientBoostingRegressor (n_estimators=300),\n",
    "         ExtraTreesRegressor (n_estimators=300) , DecisionTreeRegressor (),\n",
    "         AdaBoostRegressor (n_estimators=300)\n",
    "        ],\n",
    "        [RandomForestRegressor (n_estimators=400)]\n",
    "       ]"
   ]
  },
  {
   "cell_type": "code",
   "execution_count": 293,
   "metadata": {},
   "outputs": [],
   "source": [
    "def rmsle(y, y_):\n",
    "   log1 = np.nan_to_num(np.array([np.log(v + 1) for v in y]))\n",
    "   log2 = np.nan_to_num(np.array([np.log(v + 1) for v in y_]))\n",
    "   calc = (log1 - log2) ** 2\n",
    "   return np.sqrt(np.mean(calc))"
   ]
  },
  {
   "cell_type": "code",
   "execution_count": 294,
   "metadata": {},
   "outputs": [
    {
     "ename": "ValueError",
     "evalue": "operands could not be broadcast together with shapes (1904,) (5961,) ",
     "output_type": "error",
     "traceback": [
      "\u001b[1;31m---------------------------------------------------------------------------\u001b[0m",
      "\u001b[1;31mValueError\u001b[0m                                Traceback (most recent call last)",
      "\u001b[1;32m<ipython-input-294-0408dd0a6410>\u001b[0m in \u001b[0;36m<module>\u001b[1;34m\u001b[0m\n\u001b[1;32m----> 1\u001b[1;33m \u001b[0mrmsle\u001b[0m\u001b[1;33m(\u001b[0m\u001b[0mpred_rfc\u001b[0m\u001b[1;33m,\u001b[0m\u001b[0my\u001b[0m\u001b[1;33m)\u001b[0m\u001b[1;33m\u001b[0m\u001b[1;33m\u001b[0m\u001b[0m\n\u001b[0m",
      "\u001b[1;32m<ipython-input-293-62f8c6a16242>\u001b[0m in \u001b[0;36mrmsle\u001b[1;34m(y, y_)\u001b[0m\n\u001b[0;32m      2\u001b[0m    \u001b[0mlog1\u001b[0m \u001b[1;33m=\u001b[0m \u001b[0mnp\u001b[0m\u001b[1;33m.\u001b[0m\u001b[0mnan_to_num\u001b[0m\u001b[1;33m(\u001b[0m\u001b[0mnp\u001b[0m\u001b[1;33m.\u001b[0m\u001b[0marray\u001b[0m\u001b[1;33m(\u001b[0m\u001b[1;33m[\u001b[0m\u001b[0mnp\u001b[0m\u001b[1;33m.\u001b[0m\u001b[0mlog\u001b[0m\u001b[1;33m(\u001b[0m\u001b[0mv\u001b[0m \u001b[1;33m+\u001b[0m \u001b[1;36m1\u001b[0m\u001b[1;33m)\u001b[0m \u001b[1;32mfor\u001b[0m \u001b[0mv\u001b[0m \u001b[1;32min\u001b[0m \u001b[0my\u001b[0m\u001b[1;33m]\u001b[0m\u001b[1;33m)\u001b[0m\u001b[1;33m)\u001b[0m\u001b[1;33m\u001b[0m\u001b[1;33m\u001b[0m\u001b[0m\n\u001b[0;32m      3\u001b[0m    \u001b[0mlog2\u001b[0m \u001b[1;33m=\u001b[0m \u001b[0mnp\u001b[0m\u001b[1;33m.\u001b[0m\u001b[0mnan_to_num\u001b[0m\u001b[1;33m(\u001b[0m\u001b[0mnp\u001b[0m\u001b[1;33m.\u001b[0m\u001b[0marray\u001b[0m\u001b[1;33m(\u001b[0m\u001b[1;33m[\u001b[0m\u001b[0mnp\u001b[0m\u001b[1;33m.\u001b[0m\u001b[0mlog\u001b[0m\u001b[1;33m(\u001b[0m\u001b[0mv\u001b[0m \u001b[1;33m+\u001b[0m \u001b[1;36m1\u001b[0m\u001b[1;33m)\u001b[0m \u001b[1;32mfor\u001b[0m \u001b[0mv\u001b[0m \u001b[1;32min\u001b[0m \u001b[0my_\u001b[0m\u001b[1;33m]\u001b[0m\u001b[1;33m)\u001b[0m\u001b[1;33m)\u001b[0m\u001b[1;33m\u001b[0m\u001b[1;33m\u001b[0m\u001b[0m\n\u001b[1;32m----> 4\u001b[1;33m    \u001b[0mcalc\u001b[0m \u001b[1;33m=\u001b[0m \u001b[1;33m(\u001b[0m\u001b[0mlog1\u001b[0m \u001b[1;33m-\u001b[0m \u001b[0mlog2\u001b[0m\u001b[1;33m)\u001b[0m \u001b[1;33m**\u001b[0m \u001b[1;36m2\u001b[0m\u001b[1;33m\u001b[0m\u001b[1;33m\u001b[0m\u001b[0m\n\u001b[0m\u001b[0;32m      5\u001b[0m    \u001b[1;32mreturn\u001b[0m \u001b[0mnp\u001b[0m\u001b[1;33m.\u001b[0m\u001b[0msqrt\u001b[0m\u001b[1;33m(\u001b[0m\u001b[0mnp\u001b[0m\u001b[1;33m.\u001b[0m\u001b[0mmean\u001b[0m\u001b[1;33m(\u001b[0m\u001b[0mcalc\u001b[0m\u001b[1;33m)\u001b[0m\u001b[1;33m)\u001b[0m\u001b[1;33m\u001b[0m\u001b[1;33m\u001b[0m\u001b[0m\n",
      "\u001b[1;31mValueError\u001b[0m: operands could not be broadcast together with shapes (1904,) (5961,) "
     ]
    }
   ],
   "source": [
    "rmsle(pred_rfc,y)"
   ]
  },
  {
   "cell_type": "code",
   "execution_count": 295,
   "metadata": {},
   "outputs": [
    {
     "data": {
      "text/plain": [
       "0    100\n",
       "1    350\n",
       "2    300\n",
       "3    250\n",
       "4    250\n",
       "Name: 6, dtype: int64"
      ]
     },
     "execution_count": 295,
     "metadata": {},
     "output_type": "execute_result"
    }
   ],
   "source": [
    "y.head()"
   ]
  },
  {
   "cell_type": "code",
   "execution_count": 296,
   "metadata": {},
   "outputs": [
    {
     "data": {
      "text/plain": [
       "array([382.8575152 , 382.8575152 , 313.53193209, ..., 167.68895349,\n",
       "       278.53744311, 328.50120627])"
      ]
     },
     "execution_count": 296,
     "metadata": {},
     "output_type": "execute_result"
    }
   ],
   "source": [
    "pred_ada"
   ]
  },
  {
   "cell_type": "code",
   "execution_count": 297,
   "metadata": {},
   "outputs": [
    {
     "name": "stdout",
     "output_type": "stream",
     "text": [
      "Parameters currently in use:\n",
      "\n",
      "{'alpha': 0.9,\n",
      " 'ccp_alpha': 0.0,\n",
      " 'criterion': 'friedman_mse',\n",
      " 'init': None,\n",
      " 'learning_rate': 0.1,\n",
      " 'loss': 'ls',\n",
      " 'max_depth': 3,\n",
      " 'max_features': None,\n",
      " 'max_leaf_nodes': None,\n",
      " 'min_impurity_decrease': 0.0,\n",
      " 'min_impurity_split': None,\n",
      " 'min_samples_leaf': 1,\n",
      " 'min_samples_split': 2,\n",
      " 'min_weight_fraction_leaf': 0.0,\n",
      " 'n_estimators': 500,\n",
      " 'n_iter_no_change': None,\n",
      " 'presort': 'deprecated',\n",
      " 'random_state': None,\n",
      " 'subsample': 1.0,\n",
      " 'tol': 0.0001,\n",
      " 'validation_fraction': 0.1,\n",
      " 'verbose': 0,\n",
      " 'warm_start': False}\n"
     ]
    }
   ],
   "source": [
    "from pprint import pprint\n",
    "print('Parameters currently in use:\\n')\n",
    "pprint(gb.get_params())"
   ]
  },
  {
   "cell_type": "code",
   "execution_count": 298,
   "metadata": {},
   "outputs": [
    {
     "ename": "NameError",
     "evalue": "name 'n_estimators' is not defined",
     "output_type": "error",
     "traceback": [
      "\u001b[1;31m---------------------------------------------------------------------------\u001b[0m",
      "\u001b[1;31mNameError\u001b[0m                                 Traceback (most recent call last)",
      "\u001b[1;32m<ipython-input-298-2b2243cf0364>\u001b[0m in \u001b[0;36m<module>\u001b[1;34m\u001b[0m\n\u001b[0;32m     14\u001b[0m \u001b[0mbootstrap\u001b[0m \u001b[1;33m=\u001b[0m \u001b[1;33m[\u001b[0m\u001b[1;32mTrue\u001b[0m\u001b[1;33m,\u001b[0m \u001b[1;32mFalse\u001b[0m\u001b[1;33m]\u001b[0m\u001b[1;33m\u001b[0m\u001b[1;33m\u001b[0m\u001b[0m\n\u001b[0;32m     15\u001b[0m \u001b[1;31m# Create the random grid\u001b[0m\u001b[1;33m\u001b[0m\u001b[1;33m\u001b[0m\u001b[1;33m\u001b[0m\u001b[0m\n\u001b[1;32m---> 16\u001b[1;33m random_grid = {'n_estimators': n_estimators,\n\u001b[0m\u001b[0;32m     17\u001b[0m                \u001b[1;34m'max_features'\u001b[0m\u001b[1;33m:\u001b[0m \u001b[0mmax_features\u001b[0m\u001b[1;33m,\u001b[0m\u001b[1;33m\u001b[0m\u001b[1;33m\u001b[0m\u001b[0m\n\u001b[0;32m     18\u001b[0m                \u001b[1;34m'max_depth'\u001b[0m\u001b[1;33m:\u001b[0m \u001b[0mmax_depth\u001b[0m\u001b[1;33m,\u001b[0m\u001b[1;33m\u001b[0m\u001b[1;33m\u001b[0m\u001b[0m\n",
      "\u001b[1;31mNameError\u001b[0m: name 'n_estimators' is not defined"
     ]
    }
   ],
   "source": [
    "from sklearn.model_selection import RandomizedSearchCV\n",
    "# Number of trees in random forest\n",
    "#n_estimators = [int(x) for x in np.linspace(start = 200, stop = 2000, num = 10)]\n",
    "# Number of features to consider at every split\n",
    "max_features = ['auto', 'sqrt']\n",
    "# Maximum number of levels in tree\n",
    "max_depth = [int(x) for x in np.linspace(10, 110, num = 11)]\n",
    "max_depth.append(None)\n",
    "# Minimum number of samples required to split a node\n",
    "min_samples_split = [2, 5, 10]\n",
    "# Minimum number of samples required at each leaf node\n",
    "min_samples_leaf = [1, 2, 4]\n",
    "# Method of selecting samples for training each tree\n",
    "bootstrap = [True, False]\n",
    "# Create the random grid\n",
    "random_grid = {'n_estimators': n_estimators,\n",
    "               'max_features': max_features,\n",
    "               'max_depth': max_depth,\n",
    "               'min_samples_split': min_samples_split,\n",
    "               'min_samples_leaf': min_samples_leaf,\n",
    "               'bootstrap': bootstrap}\n",
    "pprint(random_grid)"
   ]
  },
  {
   "cell_type": "code",
   "execution_count": 299,
   "metadata": {},
   "outputs": [],
   "source": [
    "from sklearn.model_selection import RandomizedSearchCV, GridSearchCV\n",
    "from sklearn.model_selection import KFold"
   ]
  },
  {
   "cell_type": "code",
   "execution_count": 301,
   "metadata": {},
   "outputs": [
    {
     "ename": "NameError",
     "evalue": "name 'random_grid' is not defined",
     "output_type": "error",
     "traceback": [
      "\u001b[1;31m---------------------------------------------------------------------------\u001b[0m",
      "\u001b[1;31mNameError\u001b[0m                                 Traceback (most recent call last)",
      "\u001b[1;32m<ipython-input-301-077ffbee7ac9>\u001b[0m in \u001b[0;36m<module>\u001b[1;34m\u001b[0m\n\u001b[0;32m      4\u001b[0m \u001b[0mskf\u001b[0m \u001b[1;33m=\u001b[0m \u001b[0mKFold\u001b[0m\u001b[1;33m(\u001b[0m\u001b[0mn_splits\u001b[0m\u001b[1;33m=\u001b[0m\u001b[0mfolds\u001b[0m\u001b[1;33m,\u001b[0m \u001b[0mshuffle\u001b[0m \u001b[1;33m=\u001b[0m \u001b[1;32mTrue\u001b[0m\u001b[1;33m,\u001b[0m \u001b[0mrandom_state\u001b[0m \u001b[1;33m=\u001b[0m \u001b[1;36m1001\u001b[0m\u001b[1;33m)\u001b[0m\u001b[1;33m\u001b[0m\u001b[1;33m\u001b[0m\u001b[0m\n\u001b[0;32m      5\u001b[0m \u001b[1;33m\u001b[0m\u001b[0m\n\u001b[1;32m----> 6\u001b[1;33m \u001b[0mrandom_search\u001b[0m \u001b[1;33m=\u001b[0m \u001b[0mRandomizedSearchCV\u001b[0m\u001b[1;33m(\u001b[0m\u001b[0mrfc\u001b[0m\u001b[1;33m,\u001b[0m \u001b[0mparam_distributions\u001b[0m\u001b[1;33m=\u001b[0m\u001b[0mrandom_grid\u001b[0m\u001b[1;33m,\u001b[0m \u001b[0mn_iter\u001b[0m\u001b[1;33m=\u001b[0m\u001b[0mparam_comb\u001b[0m\u001b[1;33m,\u001b[0m \u001b[0mscoring\u001b[0m\u001b[1;33m=\u001b[0m\u001b[0mlol\u001b[0m\u001b[1;33m,\u001b[0m \u001b[0mn_jobs\u001b[0m\u001b[1;33m=\u001b[0m\u001b[1;36m4\u001b[0m\u001b[1;33m,\u001b[0m \u001b[0mcv\u001b[0m\u001b[1;33m=\u001b[0m\u001b[0mskf\u001b[0m\u001b[1;33m.\u001b[0m\u001b[0msplit\u001b[0m\u001b[1;33m(\u001b[0m\u001b[0mX\u001b[0m\u001b[1;33m,\u001b[0m\u001b[0my\u001b[0m\u001b[1;33m)\u001b[0m\u001b[1;33m,\u001b[0m \u001b[0mverbose\u001b[0m\u001b[1;33m=\u001b[0m\u001b[1;36m3\u001b[0m\u001b[1;33m,\u001b[0m \u001b[0mrandom_state\u001b[0m\u001b[1;33m=\u001b[0m\u001b[1;36m1001\u001b[0m \u001b[1;33m)\u001b[0m\u001b[1;33m\u001b[0m\u001b[1;33m\u001b[0m\u001b[0m\n\u001b[0m",
      "\u001b[1;31mNameError\u001b[0m: name 'random_grid' is not defined"
     ]
    }
   ],
   "source": [
    "folds = 3\n",
    "param_comb = 5\n",
    "\n",
    "skf = KFold(n_splits=folds, shuffle = True, random_state = 1001)\n",
    "\n",
    "random_search = RandomizedSearchCV(rfc, param_distributions=random_grid, n_iter=param_comb, scoring=lol, n_jobs=4, cv=skf.split(X,y), verbose=3, random_state=1001 )"
   ]
  },
  {
   "cell_type": "code",
   "execution_count": 300,
   "metadata": {},
   "outputs": [
    {
     "ename": "NameError",
     "evalue": "name 'random_search' is not defined",
     "output_type": "error",
     "traceback": [
      "\u001b[1;31m---------------------------------------------------------------------------\u001b[0m",
      "\u001b[1;31mNameError\u001b[0m                                 Traceback (most recent call last)",
      "\u001b[1;32m<ipython-input-300-d9da57d18798>\u001b[0m in \u001b[0;36m<module>\u001b[1;34m\u001b[0m\n\u001b[1;32m----> 1\u001b[1;33m \u001b[0mrandom_search\u001b[0m\u001b[1;33m.\u001b[0m\u001b[0mfit\u001b[0m\u001b[1;33m(\u001b[0m\u001b[0mX\u001b[0m\u001b[1;33m,\u001b[0m \u001b[0my\u001b[0m\u001b[1;33m)\u001b[0m\u001b[1;33m\u001b[0m\u001b[1;33m\u001b[0m\u001b[0m\n\u001b[0m",
      "\u001b[1;31mNameError\u001b[0m: name 'random_search' is not defined"
     ]
    }
   ],
   "source": [
    "random_search.fit(X, y)"
   ]
  },
  {
   "cell_type": "code",
   "execution_count": null,
   "metadata": {},
   "outputs": [],
   "source": [
    "print('\\n All results:')\n",
    "print(random_search.cv_results_)\n",
    "print('\\n Best estimator:')\n",
    "print(random_search.best_estimator_)\n",
    "print('\\n Best normalized gini score for %d-fold search with %d parameter combinations:' % (folds, param_comb))\n",
    "print(random_search.best_score_ * 2 - 1)\n",
    "print('\\n Best hyperparameters:')\n",
    "print(random_search.best_params_)"
   ]
  },
  {
   "cell_type": "code",
   "execution_count": null,
   "metadata": {},
   "outputs": [],
   "source": [
    "test2.shape"
   ]
  },
  {
   "cell_type": "code",
   "execution_count": null,
   "metadata": {},
   "outputs": [],
   "source": [
    "pred1.shape"
   ]
  },
  {
   "cell_type": "code",
   "execution_count": null,
   "metadata": {},
   "outputs": [],
   "source": [
    "sub=pd.DataFrame()\n",
    "sub[0]=test2[0]\n",
    "sub.drop([0],axis=1,inplace=True)\n",
    "sub['Fees']=pred1"
   ]
  },
  {
   "cell_type": "code",
   "execution_count": null,
   "metadata": {},
   "outputs": [],
   "source": [
    "finalsub=pd.concat([sub,sub1],axis=0)\n",
    "finalsub=finalsub.sort_index(axis=0)"
   ]
  },
  {
   "cell_type": "code",
   "execution_count": null,
   "metadata": {},
   "outputs": [],
   "source": [
    "pred_xgb=finalsub['Fees']"
   ]
  },
  {
   "cell_type": "code",
   "execution_count": null,
   "metadata": {},
   "outputs": [],
   "source": [
    "finalsub.to_excel(\"Try.xlsx\")"
   ]
  },
  {
   "cell_type": "code",
   "execution_count": null,
   "metadata": {},
   "outputs": [],
   "source": [
    "from sklearn.metrics import make_scorer\n",
    "lol=make_scorer(rmsle)"
   ]
  },
  {
   "cell_type": "code",
   "execution_count": null,
   "metadata": {},
   "outputs": [],
   "source": [
    "a=[]"
   ]
  },
  {
   "cell_type": "code",
   "execution_count": null,
   "metadata": {},
   "outputs": [],
   "source": [
    "haha=[]\n",
    "for i in range(0,len(a)):\n",
    "    lel=(round(a[i]/50)*50)\n",
    "    haha.append(lel)"
   ]
  },
  {
   "cell_type": "code",
   "execution_count": null,
   "metadata": {},
   "outputs": [],
   "source": [
    "finalsub['Fees']=round(finalsub['Fees'])"
   ]
  },
  {
   "cell_type": "code",
   "execution_count": null,
   "metadata": {},
   "outputs": [],
   "source": [
    "weights=pd.DataFrame()"
   ]
  },
  {
   "cell_type": "code",
   "execution_count": null,
   "metadata": {},
   "outputs": [],
   "source": [
    "weights['Ada']=pred_ada"
   ]
  },
  {
   "cell_type": "code",
   "execution_count": null,
   "metadata": {},
   "outputs": [],
   "source": [
    "weights['GBR']=pred_gb"
   ]
  },
  {
   "cell_type": "code",
   "execution_count": null,
   "metadata": {},
   "outputs": [],
   "source": [
    "weights['Bagging']=pred_br"
   ]
  },
  {
   "cell_type": "code",
   "execution_count": null,
   "metadata": {},
   "outputs": [],
   "source": [
    "weights['MLP']=pred_mlp"
   ]
  },
  {
   "cell_type": "code",
   "execution_count": null,
   "metadata": {},
   "outputs": [],
   "source": [
    "weights['KNN']=pred_knn"
   ]
  },
  {
   "cell_type": "code",
   "execution_count": null,
   "metadata": {},
   "outputs": [],
   "source": [
    "weights['ExtraTrees']=pred_etr"
   ]
  },
  {
   "cell_type": "code",
   "execution_count": null,
   "metadata": {},
   "outputs": [],
   "source": [
    "weights['DescionTree']=pred_dtr"
   ]
  },
  {
   "cell_type": "code",
   "execution_count": null,
   "metadata": {},
   "outputs": [],
   "source": [
    "weights['LightGBM']=pred_lgbm"
   ]
  },
  {
   "cell_type": "code",
   "execution_count": null,
   "metadata": {},
   "outputs": [],
   "source": [
    "weights['RFC']=pred_rfc"
   ]
  },
  {
   "cell_type": "code",
   "execution_count": null,
   "metadata": {},
   "outputs": [],
   "source": [
    "weights['True']=y"
   ]
  },
  {
   "cell_type": "code",
   "execution_count": null,
   "metadata": {},
   "outputs": [],
   "source": [
    "weights.head()"
   ]
  },
  {
   "cell_type": "code",
   "execution_count": null,
   "metadata": {},
   "outputs": [],
   "source": [
    "X3=weights.drop(['True'],axis=1)\n",
    "y3=weights['True']"
   ]
  },
  {
   "cell_type": "code",
   "execution_count": null,
   "metadata": {},
   "outputs": [],
   "source": [
    "from sklearn.linear_model import LinearRegression"
   ]
  },
  {
   "cell_type": "code",
   "execution_count": null,
   "metadata": {},
   "outputs": [],
   "source": [
    "lr=LinearRegression()"
   ]
  },
  {
   "cell_type": "code",
   "execution_count": null,
   "metadata": {},
   "outputs": [],
   "source": [
    "lr.fit(X3,y3)"
   ]
  },
  {
   "cell_type": "code",
   "execution_count": null,
   "metadata": {},
   "outputs": [],
   "source": [
    "lr.coef_"
   ]
  },
  {
   "cell_type": "code",
   "execution_count": 279,
   "metadata": {},
   "outputs": [
    {
     "ename": "NameError",
     "evalue": "name 'finalsub' is not defined",
     "output_type": "error",
     "traceback": [
      "\u001b[1;31m---------------------------------------------------------------------------\u001b[0m",
      "\u001b[1;31mNameError\u001b[0m                                 Traceback (most recent call last)",
      "\u001b[1;32m<ipython-input-279-d7dac509da47>\u001b[0m in \u001b[0;36m<module>\u001b[1;34m\u001b[0m\n\u001b[1;32m----> 1\u001b[1;33m \u001b[0mfinalsub\u001b[0m\u001b[1;33m.\u001b[0m\u001b[0mshape\u001b[0m\u001b[1;33m\u001b[0m\u001b[1;33m\u001b[0m\u001b[0m\n\u001b[0m",
      "\u001b[1;31mNameError\u001b[0m: name 'finalsub' is not defined"
     ]
    }
   ],
   "source": [
    "finalsub.shape"
   ]
  },
  {
   "cell_type": "code",
   "execution_count": 278,
   "metadata": {},
   "outputs": [
    {
     "data": {
      "text/plain": [
       "1904"
      ]
     },
     "execution_count": 278,
     "metadata": {},
     "output_type": "execute_result"
    }
   ],
   "source": [
    "len(pred_ada)"
   ]
  },
  {
   "cell_type": "code",
   "execution_count": 303,
   "metadata": {},
   "outputs": [
    {
     "ename": "NameError",
     "evalue": "name 'finalsub' is not defined",
     "output_type": "error",
     "traceback": [
      "\u001b[1;31m---------------------------------------------------------------------------\u001b[0m",
      "\u001b[1;31mNameError\u001b[0m                                 Traceback (most recent call last)",
      "\u001b[1;32m<ipython-input-303-80e45d26e35e>\u001b[0m in \u001b[0;36m<module>\u001b[1;34m\u001b[0m\n\u001b[1;32m----> 1\u001b[1;33m \u001b[0mfinalsub\u001b[0m\u001b[1;33m[\u001b[0m\u001b[1;34m'Fees'\u001b[0m\u001b[1;33m]\u001b[0m\u001b[1;33m=\u001b[0m\u001b[1;33m(\u001b[0m\u001b[1;33m(\u001b[0m\u001b[0mpred_ada\u001b[0m\u001b[1;33m*\u001b[0m\u001b[1;33m(\u001b[0m\u001b[1;33m-\u001b[0m\u001b[1;36m0.000000000000000352308068\u001b[0m\u001b[1;33m)\u001b[0m\u001b[1;33m)\u001b[0m\u001b[1;33m+\u001b[0m\u001b[1;33m(\u001b[0m\u001b[0mpred_gb\u001b[0m\u001b[1;33m*\u001b[0m\u001b[1;33m(\u001b[0m\u001b[1;33m-\u001b[0m\u001b[1;36m0.000000000000000610622664\u001b[0m\u001b[1;33m)\u001b[0m\u001b[1;33m)\u001b[0m\u001b[1;33m+\u001b[0m\u001b[1;33m(\u001b[0m\u001b[0mpred_br\u001b[0m\u001b[1;33m*\u001b[0m\u001b[1;33m(\u001b[0m\u001b[1;36m0.000000000000000915933995\u001b[0m\u001b[1;33m)\u001b[0m\u001b[1;33m)\u001b[0m\u001b[1;33m+\u001b[0m\u001b[1;33m(\u001b[0m\u001b[0mpred_mlp\u001b[0m\u001b[1;33m*\u001b[0m\u001b[1;33m(\u001b[0m\u001b[1;33m-\u001b[0m\u001b[1;36m0.000000000000000235922393\u001b[0m\u001b[1;33m)\u001b[0m\u001b[1;33m)\u001b[0m\u001b[1;33m+\u001b[0m\u001b[1;33m(\u001b[0m\u001b[0mpred_knn\u001b[0m\u001b[1;33m*\u001b[0m\u001b[1;33m(\u001b[0m\u001b[1;36m0.0000000000000000138777878\u001b[0m\u001b[1;33m)\u001b[0m\u001b[1;33m)\u001b[0m\u001b[1;33m+\u001b[0m\u001b[1;33m(\u001b[0m\u001b[0mpred_etr\u001b[0m\u001b[1;33m*\u001b[0m\u001b[1;33m(\u001b[0m\u001b[1;36m0.0000000000000000693889390\u001b[0m\u001b[1;33m)\u001b[0m\u001b[1;33m)\u001b[0m\u001b[1;33m+\u001b[0m\u001b[1;33m(\u001b[0m\u001b[0mpred_dtr\u001b[0m\u001b[1;33m*\u001b[0m\u001b[1;33m(\u001b[0m\u001b[1;36m1\u001b[0m\u001b[1;33m)\u001b[0m\u001b[1;33m)\u001b[0m\u001b[1;33m+\u001b[0m\u001b[1;33m(\u001b[0m\u001b[0mpred_rfc\u001b[0m\u001b[1;33m*\u001b[0m\u001b[1;33m(\u001b[0m\u001b[1;36m0.000000000000000152655666\u001b[0m\u001b[1;33m)\u001b[0m\u001b[1;33m)\u001b[0m\u001b[1;33m)\u001b[0m\u001b[1;33m\u001b[0m\u001b[1;33m\u001b[0m\u001b[0m\n\u001b[0m",
      "\u001b[1;31mNameError\u001b[0m: name 'finalsub' is not defined"
     ]
    }
   ],
   "source": [
    "finalsub['Fees']=((pred_ada*(-0.000000000000000352308068))+(pred_gb*(-0.000000000000000610622664))+(pred_br*(0.000000000000000915933995))+(pred_mlp*(-0.000000000000000235922393))+(pred_knn*(0.0000000000000000138777878))+(pred_etr*(0.0000000000000000693889390))+(pred_dtr*(1))+(pred_rfc*(0.000000000000000152655666)))"
   ]
  },
  {
   "cell_type": "code",
   "execution_count": 302,
   "metadata": {},
   "outputs": [
    {
     "ename": "NameError",
     "evalue": "name 'finalsub' is not defined",
     "output_type": "error",
     "traceback": [
      "\u001b[1;31m---------------------------------------------------------------------------\u001b[0m",
      "\u001b[1;31mNameError\u001b[0m                                 Traceback (most recent call last)",
      "\u001b[1;32m<ipython-input-302-644e7305f211>\u001b[0m in \u001b[0;36m<module>\u001b[1;34m\u001b[0m\n\u001b[1;32m----> 1\u001b[1;33m \u001b[0mfinalsub\u001b[0m\u001b[1;33m.\u001b[0m\u001b[0mhead\u001b[0m\u001b[1;33m(\u001b[0m\u001b[1;33m)\u001b[0m\u001b[1;33m\u001b[0m\u001b[1;33m\u001b[0m\u001b[0m\n\u001b[0m",
      "\u001b[1;31mNameError\u001b[0m: name 'finalsub' is not defined"
     ]
    }
   ],
   "source": [
    "finalsub.head()"
   ]
  },
  {
   "cell_type": "code",
   "execution_count": null,
   "metadata": {},
   "outputs": [],
   "source": []
  }
 ],
 "metadata": {
  "kernelspec": {
   "display_name": "Python 3",
   "language": "python",
   "name": "python3"
  },
  "language_info": {
   "codemirror_mode": {
    "name": "ipython",
    "version": 3
   },
   "file_extension": ".py",
   "mimetype": "text/x-python",
   "name": "python",
   "nbconvert_exporter": "python",
   "pygments_lexer": "ipython3",
   "version": "3.8.3"
  }
 },
 "nbformat": 4,
 "nbformat_minor": 4
}
